{
  "nbformat": 4,
  "nbformat_minor": 0,
  "metadata": {
    "colab": {
      "provenance": [],
      "authorship_tag": "ABX9TyPvfjDweyK134om3vNNImqY",
      "include_colab_link": true
    },
    "kernelspec": {
      "name": "python3",
      "display_name": "Python 3"
    },
    "language_info": {
      "name": "python"
    }
  },
  "cells": [
    {
      "cell_type": "markdown",
      "metadata": {
        "id": "view-in-github",
        "colab_type": "text"
      },
      "source": [
        "<a href=\"https://colab.research.google.com/github/DanteNoguez/CalculusRatiocinator/blob/main/notebooks/musica.ipynb\" target=\"_parent\"><img src=\"https://colab.research.google.com/assets/colab-badge.svg\" alt=\"Open In Colab\"/></a>"
      ]
    },
    {
      "cell_type": "markdown",
      "source": [
        "<h2 align=\"center\"><i> Música escuchada a tope durante la composición del curso </i></h2>\n",
        "\n",
        "<br>\n",
        "\n",
        "1. Can. *Vitamin C*, Ege Bamyasi, 1972.\n",
        "2. Madvillain, *Hardcore Hustle*, Madvillainy, 2004.\n",
        "3. Manic Street Preachers, *Motorcycle Emptiness*, Generation Terrorists, 1992.\n",
        "4. XTC, *Making Plans For Nigel*, Drums and Wires, 1979.\n",
        "5. Sunday Williams, *Where Did He Come From?*, Chess, 1969.\n",
        "6. The Prodigy, *Smack My B Up*, The Fat of the Land, 1997.\n",
        "7. The Beatles, *The Ballad of John and Yoko*, 1, 2000.\n",
        "8. George Harrison, *Try Some Buy Some*, Living in the Material World, 1973.\n"
      ],
      "metadata": {
        "id": "2DFRrqPeQV7r"
      }
    }
  ]
}