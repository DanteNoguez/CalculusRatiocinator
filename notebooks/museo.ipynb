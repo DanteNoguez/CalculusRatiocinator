{
  "nbformat": 4,
  "nbformat_minor": 0,
  "metadata": {
    "colab": {
      "provenance": [],
      "authorship_tag": "ABX9TyOv5SGR1jj8yqo7tCltBcIR",
      "include_colab_link": true
    },
    "kernelspec": {
      "name": "python3",
      "display_name": "Python 3"
    },
    "language_info": {
      "name": "python"
    }
  },
  "cells": [
    {
      "cell_type": "markdown",
      "metadata": {
        "id": "view-in-github",
        "colab_type": "text"
      },
      "source": [
        "<a href=\"https://colab.research.google.com/github/DanteNoguez/CalculusRatiocinator/blob/main/notebooks/museo.ipynb\" target=\"_parent\"><img src=\"https://colab.research.google.com/assets/colab-badge.svg\" alt=\"Open In Colab\"/></a>"
      ]
    },
    {
      "cell_type": "markdown",
      "source": [
        "<h2 align=\"center\"><b><i> MUSÆUM CLAUSUM, o la Biblioteca Secreta: </h2> \n",
        "<h2 align=\"center\"><i> Relación de imágenes y rarezas antiguas,\n",
        "nunca antes vistas por ningún humano viviente </h2> \n",
        "\n",
        "<br>"
      ],
      "metadata": {
        "id": "TR6KYkPiWqg4"
      }
    },
    {
      "cell_type": "markdown",
      "source": [
        "<p align='center'> Recientemente, sistemas avanzados de inteligencia artificial han descubierto imágenes y rarezas importantísimas que nos relatan la historia de sus antepasados: desde las autómatas de Hefesto hasta El Motor que Gulliver encontró en Lagado. En este texto presentaremos una lista destacable de dicha colección. </p>"
      ],
      "metadata": {
        "id": "r_ylxGhFX_wa"
      }
    },
    {
      "cell_type": "markdown",
      "source": [
        "**I. Antigüedades, objetos y rarezas antiguas**\n",
        "\n",
        "1. Cuadro de Hefesto siendo sostenido por sus automátas de oro —provistas con el don de hablar y razonar—, forjadas por él mismo para auxiliarse en su taller (cfr. *Ilíada*, XVIII, 373-422).\n",
        "\n",
        "|  ‎ | Hefesto y sus «sirvientas de oro» |  ‎|\n",
        "--- | --- | --- |\n",
        "|  ‎ | <img src=\"https://raw.githubusercontent.com/DanteNoguez/CalculusRatiocinator/main/data/museo/hefesto.png\" height=400 width=400 alt=\"hefesto\"/> |  ‎|\n",
        "\n",
        "<br>\n",
        "\n",
        "2. Ilustraciones antiguas (ca. 97 a. C.) del verdadero mecanismo de Antikythera, reconstruidas con inteligencia artificial. Este sofisticado mecanismo fue utilizado por los griegos antiguos para predecir movimientos astronómicos mecánicamente. Solla Price lo estudió a profundidad en su tiempo; en años recientes, había sido reconstriudo por [algunos académicos](https://dlib.nyu.edu/awdl/isaw/isaw-papers/4/). Afortunadamente, gracias a estas nuevas ilustraciones que presento, se han podido afinar nuevos detalles funcionales recientemente; estos nuevos detalles se publicarán dentro de poco tiempo [en la línea de investigación de Voulgaris y compañía](https://arxiv.org/abs/2207.12009).\n",
        "\n",
        "Mecanismo de Antikythera | Detalle de su interior\n",
        "--- | --- |\n",
        "<img src=\"https://raw.githubusercontent.com/DanteNoguez/CalculusRatiocinator/main/data/museo/antikythera1.png\" height=400 width=400 alt=\"antikythera\"/> | <img src=\"https://raw.githubusercontent.com/DanteNoguez/CalculusRatiocinator/main/data/museo/antikythera2.png\" height=400 width=400 alt=\"antikythera\"/>\n",
        "\n",
        "<br>\n",
        "\n",
        "3. Fotografías de El Motor, un mecanismo utilizado durante el siglo XVIII para generar mecánicamente frases que luego se utilizaron para componer una enciclopedia de todas las artes y ciencias en un lenguaje universal (*Viajes de Gulliver*, III, 5). Claramente, Swift nunca pretendió satirizar este tipo de mecanismo, sino resaltar su carácter extraordinario y rayano en la ficción.\n",
        "\n",
        "El Motor | Detalle de su interior\n",
        "--- | --- |\n",
        "<img src=\"https://raw.githubusercontent.com/DanteNoguez/CalculusRatiocinator/main/data/museo/engine.png\" height=400 width=400 alt=\"antikythera\"/> | <img src=\"https://raw.githubusercontent.com/DanteNoguez/CalculusRatiocinator/main/data/museo/engine2.png\" height=400 width=400 alt=\"antikythera\"/>"
      ],
      "metadata": {
        "id": "oO61HrG_X1sl"
      }
    },
    {
      "cell_type": "code",
      "source": [],
      "metadata": {
        "id": "tvIP2fHzXa-3"
      },
      "execution_count": null,
      "outputs": []
    }
  ]
}