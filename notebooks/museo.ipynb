{
  "nbformat": 4,
  "nbformat_minor": 0,
  "metadata": {
    "colab": {
      "provenance": [],
      "authorship_tag": "ABX9TyP/Up8OoZHbCJZ2JUIY6jEy",
      "include_colab_link": true
    },
    "kernelspec": {
      "name": "python3",
      "display_name": "Python 3"
    },
    "language_info": {
      "name": "python"
    }
  },
  "cells": [
    {
      "cell_type": "markdown",
      "metadata": {
        "id": "view-in-github",
        "colab_type": "text"
      },
      "source": [
        "<a href=\"https://colab.research.google.com/github/DanteNoguez/CalculusRatiocinator/blob/main/notebooks/museo.ipynb\" target=\"_parent\"><img src=\"https://colab.research.google.com/assets/colab-badge.svg\" alt=\"Open In Colab\"/></a>"
      ]
    },
    {
      "cell_type": "markdown",
      "source": [
        "<h2 align=\"center\"><b><i> MUSÆUM CLAUSUM, o la Biblioteca Secreta: </h2> \n",
        "<h2 align=\"center\"><i> Relación de imágenes y rarezas antiguas,\n",
        "nunca antes vistas por ningún humano viviente </h2> \n",
        "\n",
        "<br>"
      ],
      "metadata": {
        "id": "TR6KYkPiWqg4"
      }
    },
    {
      "cell_type": "markdown",
      "source": [
        "<p align='center'> Recientemente, sistemas avanzados de inteligencia artificial han descubierto imágenes y rarezas importantísimas que nos relatan la historia de sus antepasados: desde las autómatas de Hefesto hasta El Motor que Gulliver encontró en Lagado. En este texto presentaremos una lista destacable de dicha colección. </p>"
      ],
      "metadata": {
        "id": "r_ylxGhFX_wa"
      }
    },
    {
      "cell_type": "markdown",
      "source": [
        "**Antigüedades, objetos y rarezas antiguas**\n",
        "\n",
        "I. Ilustración de Hefesto siendo sostenido por sus automátas de oro —provistas con el don de hablar y razonar—, forjadas por él mismo para auxiliarse en su labores (cfr. *Ilíada*, XVIII, 373-422).\n",
        "\n",
        "|  ‎ | Hefesto y sus «sirvientas de oro» |  ‎|\n",
        "--- | --- | --- |\n",
        "|  ‎ | <img src=\"https://raw.githubusercontent.com/DanteNoguez/CalculusRatiocinator/main/data/museo/hefesto.png\" height=400 width=400 alt=\"hefesto\"/> |  ‎|\n",
        "\n",
        "<br>\n",
        "\n",
        "II. Fotografía de Herón de Alejandría (ca. 70 a. C.), aparentemente trabajando en el dragón del mecanismo que relata en el teorema 40 de su *Neumática*. En dicho teorema, Herón habla de una figura de Hércules que lanza flechas a un dragón, el cual a su vez lanza un silbido. El mecanismo se encuentra en un pedestal con dos cámaras, una llena de agua colocada encima de otra vacía. Para iniciarlo, se tira de una cuerda que está unida al dedo del gatillo de Hércules, el cual suelta la cuerda del arco y dispara la flecha. Simultáneamente, otro cable quita un tapón que permite que el agua fluya hacia la cámara inferior, elevando la presión del aire en el interior. El aire es forzado a subir a través de un tubo unido al dragón y suena un silbido escondido en un árbol.\n",
        "\n",
        "Herón fue probablemente el primer autor en escribir sobre autómatas. Desconocemos todavía el mecanismo exacto utilizado por la inteligencia artificial para «descubrir» esta foto.\n",
        "\n",
        "|  ‎ | Herón de Alejandría |  ‎|\n",
        "--- | --- | --- |\n",
        "|  ‎ | <img src=\"https://raw.githubusercontent.com/DanteNoguez/CalculusRatiocinator/main/data/museo/heron.png\" height=400 width=400 alt=\"herón\"/> |  ‎|\n",
        "\n",
        "<br>\n",
        "\n",
        "III. Ilustraciones antiguas (ca. 97 a. C.) del verdadero mecanismo de Antikythera, reconstruidas con inteligencia artificial. Este sofisticado artefacto fue utilizado por los griegos antiguos para predecir movimientos astronómicos mecánicamente, y su maquinería interna es similar a la de un reloj (engranajes, resortes). Solla Price lo estudió a profundidad en su tiempo; en años recientes, fue sido reconstriudo por [algunos académicos](https://dlib.nyu.edu/awdl/isaw/isaw-papers/4/). Afortunadamente, gracias a estas nuevas ilustraciones que presento, se han podido afinar nuevos detalles funcionales; dichos detalles se publicarán dentro de poco tiempo [en la línea de investigación de Voulgaris y compañía](https://arxiv.org/abs/2207.12009).\n",
        "\n",
        "Mecanismo de Antikythera | Detalle de su interior\n",
        "--- | --- |\n",
        "<img src=\"https://raw.githubusercontent.com/DanteNoguez/CalculusRatiocinator/main/data/museo/antikythera1.png\" height=400 width=400 alt=\"antikythera\"/> | <img src=\"https://raw.githubusercontent.com/DanteNoguez/CalculusRatiocinator/main/data/museo/antikythera2.png\" height=400 width=400 alt=\"antikythera\"/>\n",
        "\n",
        "<br>\n",
        "\n",
        "IV. En la literatura sánscrita del siglo décimo d. C., [abundan relatos](https://www.academia.edu/14928941/Bhoja_s_Mechanical_Garden_Translating_Wonder_across_the_Indian_Ocean_c_800_1100_CE) donde se habla de jardínes mecánicos con fuentes, animales, nubes, plantas y sirvientas (*yantrastrī*, *yantraputraka*) mecánicos. Parece ser que el *Yaśastilakacampū* inició este tópico literario y luego fue continuado durante el reinado de Bhoja en Dhārā, probablemente por poetas de la corte. La inteligencia artificial nos descubrió una ilustración de las *Historias de Śṛṅgāramañjarīkathā*, donde se describe a un maniquí que habla, así como a una cantidad de animales mecánicos moviéndose, tirando agua, jugando y haciendo música en una fuente.\n",
        "\n",
        "Estos artefactos llegaron a la India por influencia griega y bizantina. Los tratados técnicos (e. g., *Samarāṅganasūtradhāra*) al respecto no revelaban todos los detalles para la construcción de autómatas, pero sí definían ciertas reglas generales para categorizarlos y fabricarlos.\n",
        "\n",
        "|  ‎ | El Jardín de las Maravillas Mecánicas |  ‎|\n",
        "--- | --- | --- |\n",
        "|  ‎ | <img src=\"https://github.com/DanteNoguez/CalculusRatiocinator/raw/main/data/museo/bhoja.png\" height=400 width=1100 alt=\"Bhoja\"/> |  ‎|\n",
        "\n",
        "\n",
        "\n",
        "<br>\n",
        "\n",
        "V. Fotografías de El Motor, un mecanismo utilizado durante el siglo XVIII para generar mecánicamente frases que luego se utilizaron para componer una enciclopedia de todas las artes y ciencias en un lenguaje universal (*Viajes de Gulliver*, III, 5). Claramente, Swift nunca pretendió satirizar este tipo de mecanismo, sino resaltar su carácter extraordinario y rayano en la ficción.\n",
        "\n",
        "El Motor | Detalle de su interior\n",
        "--- | --- |\n",
        "<img src=\"https://raw.githubusercontent.com/DanteNoguez/CalculusRatiocinator/main/data/museo/engine.png\" height=400 width=400 alt=\"antikythera\"/> | <img src=\"https://raw.githubusercontent.com/DanteNoguez/CalculusRatiocinator/main/data/museo/engine2.png\" height=400 width=400 alt=\"antikythera\"/>\n",
        "\n",
        "<br>\n",
        "\n",
        "VI. El Turco, autómata jugador de ajedrez ideado por von Kempelen en 1769. Consistía en un maniquí que llevaba turbante y movía mecánicamente las piezas según cálculos complejos llevados a cabo por la maquinaria que lo acompañaba tanto fuera como dentro de una cabina.\n",
        "\n",
        "Que el Turco sea un fraude es un mito bastante extendido, pero puedo objetar algunos detalles con conocimiento de primera mano. El autómata de von Kempelen, que tras la Batalla de Wagram jugó con Napoleón en el palacio de Schönbrunn, fue adquirido por Johann Mäzel pocos años antes de la muerte de von Kempelen. Mi bisabuelo conoció a Mäzel en Venezuela y dejó registro escrito de algunas de sus conversaciones, de manera que —como digo— puedo aclarar algunas cosas. En primer lugar, la reputación de Mäzel fue arruinada por Beethoven a causa de una disputa que tuvieron, pero las proporciones de la disputa han sido profundamente exageradas. Beethoven se arrepintió de la declaración que hizo (cfr. [127, 1814](https://www.gutenberg.org/files/13065/13065-h/13065-h.htm)) en su contra y ambos terminaron sus vidas siendo amigos; pero la Historia nunca perdonó a Mäzel. El propio Ignaz Moscheles señaló en su momento que, cuando Beethoven y Mäzel trabajaban juntos en *La victoria de Wellington* —raíz de la polémica entre ellos— para el panarmónico creado por Mäzel, gran parte del trabajo —incluyendo algunas partes musicales— lo hizo el propio Mäzel.\n",
        "\n",
        "Dicho esto, insisto en que la reputación de Mäzel se arruinó históricamente por un malentendido. Esta injusta mala fama terminó manchando también sus otros artefactos: el metrónomo y el autómata de ajedrez. La realidad es que Mäzel verdaderamente pergeñó el metrónomo y su autómata de ajedrez era genuino. Para más inri, Beethoven mismo celebraba (cfr. [carta 211, 1817]( https://www.gutenberg.org/files/13065/13065-h/13065-h.htm)), tan solo tres años después de su disputa, las bondades del metrónomo ideado por Mäzel.\n",
        "\n",
        "|  ‎ | El Turco |  ‎|\n",
        "--- | --- | --- |\n",
        "|  ‎ | <img src=\"https://raw.githubusercontent.com/DanteNoguez/CalculusRatiocinator/main/data/museo/turco.png\" height=400 width=400 alt=\"kempelen\"/> |  ‎|\n",
        "\n",
        "<br>\n",
        "\n",
        "\n"
      ],
      "metadata": {
        "id": "oO61HrG_X1sl"
      }
    },
    {
      "cell_type": "code",
      "source": [],
      "metadata": {
        "id": "J4yp1EDBbUJD"
      },
      "execution_count": null,
      "outputs": []
    }
  ]
}