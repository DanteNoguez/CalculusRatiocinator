{
  "nbformat": 4,
  "nbformat_minor": 0,
  "metadata": {
    "colab": {
      "provenance": [],
      "authorship_tag": "ABX9TyPRhPagquZDCMBA25EQgTHc",
      "include_colab_link": true
    },
    "kernelspec": {
      "name": "python3",
      "display_name": "Python 3"
    },
    "language_info": {
      "name": "python"
    }
  },
  "cells": [
    {
      "cell_type": "markdown",
      "metadata": {
        "id": "view-in-github",
        "colab_type": "text"
      },
      "source": [
        "<a href=\"https://colab.research.google.com/github/DanteNoguez/CalculusRatiocinator/blob/main/notebooks/museo.ipynb\" target=\"_parent\"><img src=\"https://colab.research.google.com/assets/colab-badge.svg\" alt=\"Open In Colab\"/></a>"
      ]
    },
    {
      "cell_type": "markdown",
      "source": [
        "\\begin{align}\n",
        "\\ \\textbf{MUSÆUM CLAUSUM, o la Biblioteca Secreta:} \\\\\n",
        "\\ \\textit{Relación de imágenes y rarezas antiguas,} \\\\\n",
        "\\ \\textit{nunca antes vistas por ningún humano viviente}\n",
        "\\end{align}\n",
        "\n",
        "<br>"
      ],
      "metadata": {
        "id": "TR6KYkPiWqg4"
      }
    },
    {
      "cell_type": "markdown",
      "source": [
        "Recientemente, sistemas avanzados de inteligencia artificial han descubierto imágenes y rarezas importantísimas que nos relatan la historia de sus antepasados: desde las autómatas de Hefesto hasta El Motor que Gulliver encontró en Lagado. En este texto presentaremos una lista destacable de dicha colección."
      ],
      "metadata": {
        "id": "r_ylxGhFX_wa"
      }
    },
    {
      "cell_type": "markdown",
      "source": [
        "**I. Antigüedades, objetos y rarezas antiguas**\n",
        "\n",
        "1. Cuadro de Hefesto siendo sostenido por sus automátas de oro —provistas con el don de hablar y razonar—, forjadas por él mismo para auxiliarse en su taller (cfr. *Ilíada*, XVIII, 373-77).\n",
        "\n",
        "<img src=\"https://raw.githubusercontent.com/DanteNoguez/CalculusRatiocinator/main/data/museo/hefesto.png\" height=400 width=400 alt=\"hefesto\"/>\n",
        "\n",
        "2. Ilustraciones antiguas (ca. 97 a. C.) del verdadero mecanismo de Antikythera, reconstruidas con inteligencia artificial. Este sofisticado mecanismo fue utilizado por los griegos antiguos para predecir movimientos astronómicos mecánicamente. Solla Price lo estudió a profundidad en su tiempo; en años recientes, había sido reconstriudo por [algunos académicos](https://dlib.nyu.edu/awdl/isaw/isaw-papers/4/). Afortunadamente, gracias a estas nuevas ilustraciones que presento, se han podido afinar nuevos detalles funcionales recientemente; estos nuevos detalles se publicarán dentro de poco tiempo [en la línea de investigación de Voulgaris y compañía](https://arxiv.org/abs/2207.12009).\n",
        "\n",
        "Mecanismo de Antikythera | Detalle de su interior\n",
        "--- | --- |\n",
        "<img src=\"https://raw.githubusercontent.com/DanteNoguez/CalculusRatiocinator/main/data/museo/antikythera1.png\" height=400 width=400 alt=\"antikythera\"/> | <img src=\"https://raw.githubusercontent.com/DanteNoguez/CalculusRatiocinator/main/data/museo/antikythera2.png\" height=400 width=400 alt=\"antikythera\"/>\n",
        "\n",
        "3. Fotografías de El Motor, un mecanismo \n",
        "\n"
      ],
      "metadata": {
        "id": "oO61HrG_X1sl"
      }
    },
    {
      "cell_type": "code",
      "source": [],
      "metadata": {
        "id": "tvIP2fHzXa-3"
      },
      "execution_count": null,
      "outputs": []
    }
  ]
}