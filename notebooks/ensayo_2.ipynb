{
  "nbformat": 4,
  "nbformat_minor": 0,
  "metadata": {
    "colab": {
      "provenance": [],
      "authorship_tag": "ABX9TyOOBw+2PZAj+qgOVhkDCYM2",
      "include_colab_link": true
    },
    "kernelspec": {
      "name": "python3",
      "display_name": "Python 3"
    },
    "language_info": {
      "name": "python"
    }
  },
  "cells": [
    {
      "cell_type": "markdown",
      "metadata": {
        "id": "view-in-github",
        "colab_type": "text"
      },
      "source": [
        "<a href=\"https://colab.research.google.com/github/DanteNoguez/CalculusRatiocinator/blob/main/notebooks/ensayo_2.ipynb\" target=\"_parent\"><img src=\"https://colab.research.google.com/assets/colab-badge.svg\" alt=\"Open In Colab\"/></a>"
      ]
    },
    {
      "cell_type": "markdown",
      "source": [
        "<h2 align=\"center\"><b><i> La derivada demostrada según el orden geométrico </b></i></h2> \n",
        "\n",
        "<p align=\"center\">A continuación, demostraremos y estudiaremos algunas propiedades de las derivadas con la siguiente función: </p> \n",
        "\n",
        "\\begin{align}\n",
        "\\ f(x) = 3x^2 - 4x + 5\n",
        "\\end{align}"
      ],
      "metadata": {
        "id": "mgFeTosKnn5U"
      }
    },
    {
      "cell_type": "code",
      "source": [
        "!pip install matplotlib --upgrade"
      ],
      "metadata": {
        "id": "5CJ6Q9meU-cy"
      },
      "execution_count": null,
      "outputs": []
    },
    {
      "cell_type": "code",
      "execution_count": null,
      "metadata": {
        "id": "kPG5U66s4kKQ"
      },
      "outputs": [],
      "source": [
        "import numpy as np\n",
        "import math\n",
        "import matplotlib.pyplot as plt\n",
        "%matplotlib inline"
      ]
    },
    {
      "cell_type": "code",
      "source": [
        "# Definimos nuestra función\n",
        "\n",
        "def f(x):\n",
        "  return 3*x**2 - 4*x + 5"
      ],
      "metadata": {
        "id": "ol0KBNvnSmvJ"
      },
      "execution_count": null,
      "outputs": []
    },
    {
      "cell_type": "code",
      "source": [
        "xs = np.arange(-5, 5, 0.25)\n",
        "ys = f(xs)\n",
        "\n",
        "fig, ax = plt.subplots()\n",
        "\n",
        "ax.plot(xs, ys)\n",
        "plt.show()"
      ],
      "metadata": {
        "colab": {
          "base_uri": "https://localhost:8080/",
          "height": 265
        },
        "id": "NtA9E26nULV0",
        "outputId": "135a8556-fcea-4bd7-c12a-c632773383a2"
      },
      "execution_count": null,
      "outputs": [
        {
          "output_type": "display_data",
          "data": {
            "text/plain": [
              "<Figure size 432x288 with 1 Axes>"
            ],
            "image/png": "[encoded data removed]"
          },
          "metadata": {
            "needs_background": "light"
          }
        }
      ]
    },
    {
      "cell_type": "markdown",
      "source": [
        "**La derivada de una función se define como:**\n",
        "\n",
        "\\begin{align}\n",
        "\\ f^{\\prime}(x)=\\lim _{h \\rightarrow 0} \\frac{f(x+h)-f(x)}{h}\n",
        "\\end{align}"
      ],
      "metadata": {
        "id": "w1QFQvcSXiap"
      }
    },
    {
      "cell_type": "code",
      "source": [
        "h = 0.00001 # h tiende a 0\n",
        "\n",
        "# Derivada de f(x)\n",
        "def dfx(f, x, h):\n",
        "  return (f(x + h) - f(x)) / h\n",
        "\n",
        "# Nos enfocaremos en el valor de la derivada cuando x es 2\n",
        "x1 = -2\n",
        "derivada1 = dfx(f, x1, h)\n",
        "\n",
        "fig, ax = plt.subplots()\n",
        "ax.plot(xs, ys, label='función')\n",
        "ax.axline((x1, f(x1)), slope=derivada1, color='red', label='pendiente')\n",
        "#ax.set_xlim(-1.5, -2.5)\n",
        "#ax.set_ylim(20, 30) \n",
        "ax.legend()"
      ],
      "metadata": {
        "colab": {
          "base_uri": "https://localhost:8080/",
          "height": 283
        },
        "id": "EzjYiSgAWII4",
        "outputId": "725f69cf-1539-416b-be5d-079ba8cd9524"
      },
      "execution_count": null,
      "outputs": [
        {
          "output_type": "execute_result",
          "data": {
            "text/plain": [
              "<matplotlib.legend.Legend at 0x7f2b48ec9a10>"
            ]
          },
          "metadata": {},
          "execution_count": 51
        },
        {
          "output_type": "display_data",
          "data": {
            "text/plain": [
              "<Figure size 432x288 with 1 Axes>"
            ],
            "image/png": "[encoded data removed]"
          },
          "metadata": {
            "needs_background": "light"
          }
        }
      ]
    },
    {
      "cell_type": "markdown",
      "source": [
        "**Ahora, intentaremos hacer lo mismo con la fórmula geométrica de la pendiente:**\n",
        "\n",
        "\\begin{align}\n",
        "\\ Pendiente = \\frac{y_2 - y_1}{x_2 - x_1}\n",
        "\\end{align}"
      ],
      "metadata": {
        "id": "YF1G3QQRYRCx"
      }
    },
    {
      "cell_type": "code",
      "source": [
        "y2 = f(x1 + h)\n",
        "y1 = f(x1)\n",
        "x1 = x1\n",
        "x2 = x1+h\n",
        "\n",
        "pendiente1 = (y2-y1) / (x2-x1)\n",
        "pendiente1, derivada1"
      ],
      "metadata": {
        "colab": {
          "base_uri": "https://localhost:8080/"
        },
        "id": "fUVu6VU0XEOQ",
        "outputId": "b7fa0544-e436-4830-dc45-649fbcdbd7a8"
      },
      "execution_count": null,
      "outputs": [
        {
          "output_type": "execute_result",
          "data": {
            "text/plain": [
              "(-15.999970000175153, -15.999970000279971)"
            ]
          },
          "metadata": {},
          "execution_count": 53
        }
      ]
    },
    {
      "cell_type": "markdown",
      "source": [
        "### Demostración\n",
        "\n",
        "En realidad, cada valor de la fórmula de una función es equivalente a cada valor de la fórmula de la pendiente, de tal forma que:\n",
        "\n",
        "\n",
        "\n",
        "\\begin{align}\n",
        "\\ f(x+h) = y_2 \\\\\n",
        "\\ f(x) = y_1 \\\\\n",
        "\\ h = x_2 - x_1 \\\\\n",
        "\\end{align}"
      ],
      "metadata": {
        "id": "P3nJC50xqNWO"
      }
    },
    {
      "cell_type": "code",
      "source": [
        "print(f\"\"\"\n",
        "Valores comparados:\n",
        "f(x+h): {f(x1+h)} = y2: {y2}\n",
        "f(x): {f(x1)} = y1: {y1}\n",
        "h: {h} = x2-x1: {x2-x1}\"\"\")"
      ],
      "metadata": {
        "colab": {
          "base_uri": "https://localhost:8080/"
        },
        "id": "DkS-2sN6ncn1",
        "outputId": "b306dc15-4b4e-44b1-d3a6-b1751e848246"
      },
      "execution_count": null,
      "outputs": [
        {
          "output_type": "stream",
          "name": "stdout",
          "text": [
            "\n",
            "Valores comparados:\n",
            "f(x+h): 24.999840000299997 = y2: 24.999840000299997\n",
            "f(x): 25 = y1: 25\n",
            "h: 1e-05 = x2-x1: 1.0000000000065512e-05\n"
          ]
        }
      ]
    },
    {
      "cell_type": "code",
      "source": [],
      "metadata": {
        "colab": {
          "base_uri": "https://localhost:8080/"
        },
        "id": "dIqpmmq3U2SF",
        "outputId": "0aa42d7e-6ab0-45a1-8778-8c40a48f4518"
      },
      "execution_count": null,
      "outputs": [
        {
          "output_type": "execute_result",
          "data": {
            "text/plain": [
              "3.0000002482211127e-05"
            ]
          },
          "metadata": {},
          "execution_count": 48
        }
      ]
    },
    {
      "cell_type": "code",
      "source": [
        "# Finalmente, visualicemos la pendiente cuando x es igual a 2/3\n",
        "\n",
        "xn = 2/3\n",
        "pendienten = dfx(f, xn, h)\n",
        "\n",
        "xs = np.arange(-5, 5, 0.25)\n",
        "ys = f(xs)\n",
        "\n",
        "fig, ax = plt.subplots()\n",
        "\n",
        "ax.plot(xs, ys)\n",
        "ax.axline((xn, f(xn)), slope=pendienten, color='red', label='by slope')\n",
        "ax.legend()"
      ],
      "metadata": {
        "colab": {
          "base_uri": "https://localhost:8080/",
          "height": 283
        },
        "id": "BXJQRAQ8WB6w",
        "outputId": "0ed66048-e966-48ef-c047-7475faad9603"
      },
      "execution_count": null,
      "outputs": [
        {
          "output_type": "execute_result",
          "data": {
            "text/plain": [
              "<matplotlib.legend.Legend at 0x7f2b495ce7d0>"
            ]
          },
          "metadata": {},
          "execution_count": 55
        },
        {
          "output_type": "display_data",
          "data": {
            "text/plain": [
              "<Figure size 432x288 with 1 Axes>"
            ],
            "image/png": "[encoded data removed]"
          },
          "metadata": {
            "needs_background": "light"
          }
        }
      ]
    },
    {
      "cell_type": "markdown",
      "source": [
        "### Ahora haremos derivadas un poco más complejas: con funciones de dos variables (x, y).\n",
        "\n",
        "La fórmula de la derivada con respecto a $x$ es: \n",
        "\n",
        "\\begin{equation}\n",
        "\\frac{\\partial f(x, y)}{\\partial x}=\\frac{f(x+h, y)-f(x, y)}{h}\n",
        "\\end{equation}\n",
        "\n",
        "Y la derivada con respecto a $y$:\n",
        "\n",
        "\\begin{equation}\n",
        "\\frac{\\partial f(x, y)}{\\partial y}=\\frac{f(x, y+h)-f(x, y)}{h}\n",
        "\\end{equation}\n"
      ],
      "metadata": {
        "id": "MqmUMSTv0vVM"
      }
    },
    {
      "cell_type": "code",
      "source": [
        "# Definimos una función que multiplica x e y\n",
        "\n",
        "def fmult(x, y):\n",
        "  return x * y + 10\n",
        "\n",
        "x = -2\n",
        "y = 3\n",
        "\n",
        "# Definimos la derivada de esa función con respecto a x\n",
        "def dmultx(f, x, y, h):\n",
        "  return ((f(x+h, y) - f(x, y)) / h)\n",
        "\n",
        "resultado = dmultx(fmult, x, y, h)\n",
        "resultado"
      ],
      "metadata": {
        "colab": {
          "base_uri": "https://localhost:8080/"
        },
        "id": "3C8S99vDsbm2",
        "outputId": "fa80c24f-5466-45db-bd95-9d668e94cfe0"
      },
      "execution_count": null,
      "outputs": [
        {
          "output_type": "execute_result",
          "data": {
            "text/plain": [
              "3.000000000064062"
            ]
          },
          "metadata": {},
          "execution_count": 56
        }
      ]
    },
    {
      "cell_type": "code",
      "source": [
        "# La derivada con respecto a y\n",
        "def dmulty(f, x, y, h):\n",
        "  return ((f(x, y+h) - f(x, y)) / h)\n",
        "\n",
        "resultado2 = dmulty(fmult, x, y, h)\n",
        "resultado2"
      ],
      "metadata": {
        "colab": {
          "base_uri": "https://localhost:8080/"
        },
        "id": "3awHLRC819U4",
        "outputId": "9b474a15-06bf-4b88-ebcd-5b08920f7638"
      },
      "execution_count": null,
      "outputs": [
        {
          "output_type": "execute_result",
          "data": {
            "text/plain": [
              "-2.0000000000131024"
            ]
          },
          "metadata": {},
          "execution_count": 57
        }
      ]
    },
    {
      "cell_type": "code",
      "source": [
        "# Por simplicidad, podemos descomponer esta función en dos:\n",
        "\n",
        "def mult(x, y):\n",
        "  return x*y\n",
        "\n",
        "def sum(x, y):\n",
        "  return x + y\n",
        "\n",
        "\n",
        "def multsum(x, y):\n",
        "  paso1 = mult(x, y)\n",
        "  paso2 = sum(paso1, 10)\n",
        "  return paso2"
      ],
      "metadata": {
        "id": "RmmvsPufGpgf"
      },
      "execution_count": null,
      "outputs": []
    },
    {
      "cell_type": "code",
      "source": [
        "multsum(3, 2), fmult(3, 2), dmultx(fmult, 3, 2, h), dmultx(multsum, 3, 2, h)"
      ],
      "metadata": {
        "colab": {
          "base_uri": "https://localhost:8080/"
        },
        "id": "nCVCfIxeGpYM",
        "outputId": "bd41bf72-f9f7-462a-c976-2dbd376fc0e7"
      },
      "execution_count": null,
      "outputs": [
        {
          "output_type": "execute_result",
          "data": {
            "text/plain": [
              "(16, 16, 1.9999999999242843, 1.9999999999242843)"
            ]
          },
          "metadata": {},
          "execution_count": 62
        }
      ]
    },
    {
      "cell_type": "code",
      "source": [
        "dmultx(mult, 3, 2, h) * dmultx(sum, 3, 2, h)"
      ],
      "metadata": {
        "colab": {
          "base_uri": "https://localhost:8080/"
        },
        "id": "tRLpaV2ySNcr",
        "outputId": "0b2998fb-1ce9-4418-fcbc-c7df6e64ab51"
      },
      "execution_count": null,
      "outputs": [
        {
          "output_type": "execute_result",
          "data": {
            "text/plain": [
              "1.9999999999373868"
            ]
          },
          "metadata": {},
          "execution_count": 64
        }
      ]
    },
    {
      "cell_type": "markdown",
      "source": [
        "# PEQUEGRAD"
      ],
      "metadata": {
        "id": "kwGMFnf3z-xt"
      }
    },
    {
      "cell_type": "code",
      "source": [
        "import math\n",
        "\n",
        "class Valor:\n",
        "  def __init__(self, valor, _valores=(), _op='', etiqueta=''):\n",
        "    self.valor = valor\n",
        "    self.grad = 0.0 # gradiente\n",
        "    self._backward = lambda: None # el valor predeterminado es nulo\n",
        "    self._previos = set(_valores)\n",
        "    self._op = _op\n",
        "    self.etiqueta = etiqueta\n",
        "\n",
        "  def __repr__(self):\n",
        "    return f'Valor({self.valor})'\n",
        "\n",
        "  def __add__(self, otro): # self + otro\n",
        "    otro = otro if isinstance(otro, Valor) else Valor(otro)\n",
        "    resultado = Valor(self.valor + otro.valor, (self, otro), '+')\n",
        "\n",
        "    def _backward():\n",
        "      self.grad += 1.0 * resultado.grad\n",
        "      otro.grad += 1.0 * resultado.grad\n",
        "    resultado._backward = _backward\n",
        "\n",
        "    return resultado\n",
        "\n",
        "  def __radd__(self, otro):\n",
        "    return self + otro\n",
        "\n",
        "  def __mul__(self, otro): # self * otro\n",
        "    otro = otro if isinstance(otro, Valor) else Valor(otro)\n",
        "    resultado = Valor(self.valor * otro.valor, (self, otro), '*')\n",
        "\n",
        "    def _backward():\n",
        "      self.grad += otro.valor * resultado.grad\n",
        "      otro.grad += self.valor * resultado.grad\n",
        "    resultado._backward = _backward\n",
        "\n",
        "    return resultado\n",
        "\n",
        "  def __pow__(self, otro): # self ** otro\n",
        "    assert isinstance(otro, (int, float))\n",
        "    resultado = Valor(self.valor**otro, (self,), f'**{otro}')\n",
        "\n",
        "    def _backward():\n",
        "      self.grad += otro * (self.valor ** (otro - 1)) * resultado.grad\n",
        "    resultado._backward = _backward\n",
        "\n",
        "    return resultado\n",
        "\n",
        "  def __rmul__(self, otro): # self * otro\n",
        "    return self * otro\n",
        "\n",
        "  def __truediv__(self, otro): # self / otro\n",
        "    return self * otro**-1\n",
        "\n",
        "  def __neg__(self):\n",
        "    return self * -1\n",
        "\n",
        "  def __sub__(self, otro): # self - otro\n",
        "    return self + (-otro)\n",
        "\n",
        "  def __rsub__(self, otro):\n",
        "    return otro + (-self)\n",
        "\n",
        "  def __rtruediv__(self, otro):\n",
        "    return otro * self**-1\n",
        "\n",
        "  def tanh(self): # tangente hiperbólica\n",
        "    x = self.valor\n",
        "    t = (math.exp(2*x) - 1) / (math.exp(2*x) + 1)\n",
        "    resultado = Valor(t, (self, ), 'tanh')\n",
        "\n",
        "    def _backward():\n",
        "      self.grad += (1 - t**2) * resultado.grad #según la fórmula 1-tanh**2x\n",
        "      \n",
        "    resultado._backward = _backward\n",
        "    \n",
        "    return resultado\n",
        "\n",
        "  def exp(self):\n",
        "    x = self.valor\n",
        "    resultado = Valor(math.exp(x), (self, ), 'exp')\n",
        "\n",
        "    def _backward():\n",
        "      self.grad += resultado.valor * resultado.grad\n",
        "    resultado._backward = _backward\n",
        "\n",
        "    return resultado\n",
        "\n",
        "  def backward(self):\n",
        "    topo = [] # haremos un ordenamiento topológico de los valores (los pondremos en orden 'cronológico')\n",
        "    visitados = set()\n",
        "    def construir_topo(v):\n",
        "      if v not in visitados:\n",
        "        visitados.add(v)\n",
        "        for valores in v._previos:\n",
        "          construir_topo(valores)\n",
        "        topo.append(v)\n",
        "    construir_topo(self)\n",
        "\n",
        "    self.grad = 1.0 # asignamos valor de 1 para inicializar la propagación\n",
        "\n",
        "    for nodo in reversed(topo): # comenzamos desde adelante hacia atrás\n",
        "      nodo._backward()\n",
        "\n",
        "  #def __repr__(self):\n",
        "    return f'(valor={self.valor}, gradiente={self.grad})'"
      ],
      "metadata": {
        "id": "qwLB8Gd-TBG9"
      },
      "execution_count": 258,
      "outputs": []
    },
    {
      "cell_type": "code",
      "source": [
        "a = Valor(2.0)\n",
        "b = Valor(3.0)\n",
        "a / b"
      ],
      "metadata": {
        "colab": {
          "base_uri": "https://localhost:8080/"
        },
        "id": "_dUET14rPrAg",
        "outputId": "d28b4603-e21b-4207-d321-326729f202e9"
      },
      "execution_count": 261,
      "outputs": [
        {
          "output_type": "execute_result",
          "data": {
            "text/plain": [
              "Valor(0.6666666666666666)"
            ]
          },
          "metadata": {},
          "execution_count": 261
        }
      ]
    },
    {
      "cell_type": "code",
      "source": [
        "a = Valor(2.0, etiqueta='a')\n",
        "b = Valor(-3.0, etiqueta='b')\n",
        "c = Valor(10.0, etiqueta='c')\n",
        "e = a*b; e.etiqueta='e'\n",
        "d = e+c; d.etiqueta='d'\n",
        "f = Valor(-2.0, etiqueta='f')\n",
        "L = d * f; L.etiqueta='L'\n",
        "a * b + c, (a.__mul__(b)).__add__(c)"
      ],
      "metadata": {
        "colab": {
          "base_uri": "https://localhost:8080/"
        },
        "id": "NuGsc2Ysz3nK",
        "outputId": "940cfdc1-fd31-4fb6-e75a-37fec78c996f"
      },
      "execution_count": 200,
      "outputs": [
        {
          "output_type": "execute_result",
          "data": {
            "text/plain": [
              "(Valor(4.0), Valor(4.0))"
            ]
          },
          "metadata": {},
          "execution_count": 200
        }
      ]
    },
    {
      "cell_type": "code",
      "source": [
        "d = a * b + c\n",
        "d._previos, d._op"
      ],
      "metadata": {
        "colab": {
          "base_uri": "https://localhost:8080/"
        },
        "id": "9Ck1aTD10P2Z",
        "outputId": "36907b7a-d1b0-4e52-e594-9dbcafb331e6"
      },
      "execution_count": 142,
      "outputs": [
        {
          "output_type": "execute_result",
          "data": {
            "text/plain": [
              "({Valor(-6.0), Valor(10.0)}, '+')"
            ]
          },
          "metadata": {},
          "execution_count": 142
        }
      ]
    },
    {
      "cell_type": "code",
      "source": [
        "from graphviz import Digraph\n",
        "\n",
        "def rastreo(origen):\n",
        "  # construye un conjunto de todos los nodos en un gráfico\n",
        "  nodos, lineas = set(), set()\n",
        "  def construir(v):\n",
        "    if v not in nodos:\n",
        "      nodos.add(v)\n",
        "      for parte in v._previos:\n",
        "        lineas.add((parte, v))\n",
        "        construir(parte)\n",
        "  construir(origen)\n",
        "  return nodos, lineas\n",
        "\n",
        "def graficar(origen):\n",
        "  grafica = Digraph(format='svg', graph_attr={'rankdir': 'LR'}) # left to right, izquierda a derecha\n",
        "\n",
        "  nodos, lineas = rastreo(origen)\n",
        "  for n in nodos:\n",
        "    uid = str(id(n))\n",
        "    # por cada valor en la grafica, crea un nodo rectangular ('record') para él\n",
        "    grafica.node(name=uid, label='{ %s | valor %.4f | grad %.4f }' % (n.etiqueta, n.valor, n.grad), shape='record')\n",
        "    if n._op:\n",
        "      # si el valor es resultado de una operación, crea un nodo para la operación\n",
        "      grafica.node(name = uid + n._op, label = n._op)\n",
        "      # conecta los nodos\n",
        "      grafica.edge(uid + n._op, uid)\n",
        "\n",
        "  for n1, n2 in lineas:\n",
        "    # conecta n1 al nodo operación de n2\n",
        "    grafica.edge(str(id(n1)), str(id(n2)) + n2._op)\n",
        "\n",
        "  return grafica"
      ],
      "metadata": {
        "id": "6ePLyU_h0ix6"
      },
      "execution_count": 143,
      "outputs": []
    },
    {
      "cell_type": "code",
      "source": [
        "graficar(d)"
      ],
      "metadata": {
        "colab": {
          "base_uri": "https://localhost:8080/",
          "height": 192
        },
        "id": "8daMakEC31Ix",
        "outputId": "863ffb17-0182-48a3-a4ce-9115b0be5815"
      },
      "execution_count": null,
      "outputs": [
        {
          "output_type": "execute_result",
          "data": {
            "text/plain": [
              "<graphviz.dot.Digraph at 0x7f9f0b869a10>"
            ],
            "image/svg+xml": "<?xml version=\"1.0\" encoding=\"UTF-8\" standalone=\"no\"?>\n<!DOCTYPE svg PUBLIC \"-//W3C//DTD SVG 1.1//EN\"\n \"http://www.w3.org/Graphics/SVG/1.1/DTD/svg11.dtd\">\n<!-- Generated by graphviz version 2.40.1 (20161225.0304)\n -->\n<!-- Title: %3 Pages: 1 -->\n<svg width=\"872pt\" height=\"128pt\"\n viewBox=\"0.00 0.00 872.00 128.00\" xmlns=\"http://www.w3.org/2000/svg\" xmlns:xlink=\"http://www.w3.org/1999/xlink\">\n<g id=\"graph0\" class=\"graph\" transform=\"scale(1 1) rotate(0) translate(4 124)\">\n<title>%3</title>\n<polygon fill=\"#ffffff\" stroke=\"transparent\" points=\"-4,4 -4,-124 868,-124 868,4 -4,4\"/>\n<!-- 140321070662160 -->\n<g id=\"node1\" class=\"node\">\n<title>140321070662160</title>\n<polygon fill=\"none\" stroke=\"#000000\" points=\"0,-83.5 0,-119.5 206,-119.5 206,-83.5 0,-83.5\"/>\n<text text-anchor=\"middle\" x=\"12\" y=\"-97.8\" font-family=\"Times,serif\" font-size=\"14.00\" fill=\"#000000\">b</text>\n<polyline fill=\"none\" stroke=\"#000000\" points=\"24,-83.5 24,-119.5 \"/>\n<text text-anchor=\"middle\" x=\"71.5\" y=\"-97.8\" font-family=\"Times,serif\" font-size=\"14.00\" fill=\"#000000\">valor &#45;3.0000</text>\n<polyline fill=\"none\" stroke=\"#000000\" points=\"119,-83.5 119,-119.5 \"/>\n<text text-anchor=\"middle\" x=\"162.5\" y=\"-97.8\" font-family=\"Times,serif\" font-size=\"14.00\" fill=\"#000000\">grad 0.0000</text>\n</g>\n<!-- 140321069913936* -->\n<g id=\"node4\" class=\"node\">\n<title>140321069913936*</title>\n<ellipse fill=\"none\" stroke=\"#000000\" cx=\"269\" cy=\"-73.5\" rx=\"27\" ry=\"18\"/>\n<text text-anchor=\"middle\" x=\"269\" y=\"-69.8\" font-family=\"Times,serif\" font-size=\"14.00\" fill=\"#000000\">*</text>\n</g>\n<!-- 140321070662160&#45;&gt;140321069913936* -->\n<g id=\"edge3\" class=\"edge\">\n<title>140321070662160&#45;&gt;140321069913936*</title>\n<path fill=\"none\" stroke=\"#000000\" d=\"M206.2425,-84.0856C215.5947,-82.5081 224.5817,-80.9922 232.6881,-79.6249\"/>\n<polygon fill=\"#000000\" stroke=\"#000000\" points=\"233.5156,-83.0348 242.7941,-77.9203 232.3513,-76.1324 233.5156,-83.0348\"/>\n</g>\n<!-- 140321070662608 -->\n<g id=\"node2\" class=\"node\">\n<title>140321070662608</title>\n<polygon fill=\"none\" stroke=\"#000000\" points=\"332,-.5 332,-36.5 540,-36.5 540,-.5 332,-.5\"/>\n<text text-anchor=\"middle\" x=\"343.5\" y=\"-14.8\" font-family=\"Times,serif\" font-size=\"14.00\" fill=\"#000000\">c</text>\n<polyline fill=\"none\" stroke=\"#000000\" points=\"355,-.5 355,-36.5 \"/>\n<text text-anchor=\"middle\" x=\"404\" y=\"-14.8\" font-family=\"Times,serif\" font-size=\"14.00\" fill=\"#000000\">valor 10.0000</text>\n<polyline fill=\"none\" stroke=\"#000000\" points=\"453,-.5 453,-36.5 \"/>\n<text text-anchor=\"middle\" x=\"496.5\" y=\"-14.8\" font-family=\"Times,serif\" font-size=\"14.00\" fill=\"#000000\">grad 0.0000</text>\n</g>\n<!-- 140321069914448+ -->\n<g id=\"node6\" class=\"node\">\n<title>140321069914448+</title>\n<ellipse fill=\"none\" stroke=\"#000000\" cx=\"603\" cy=\"-45.5\" rx=\"27\" ry=\"18\"/>\n<text text-anchor=\"middle\" x=\"603\" y=\"-41.8\" font-family=\"Times,serif\" font-size=\"14.00\" fill=\"#000000\">+</text>\n</g>\n<!-- 140321070662608&#45;&gt;140321069914448+ -->\n<g id=\"edge5\" class=\"edge\">\n<title>140321070662608&#45;&gt;140321069914448+</title>\n<path fill=\"none\" stroke=\"#000000\" d=\"M540.3402,-35.3694C549.6006,-36.8666 558.4956,-38.3047 566.5289,-39.6035\"/>\n<polygon fill=\"#000000\" stroke=\"#000000\" points=\"566.1209,-43.0829 576.5513,-41.2239 567.2382,-36.1726 566.1209,-43.0829\"/>\n</g>\n<!-- 140321069913936 -->\n<g id=\"node3\" class=\"node\">\n<title>140321069913936</title>\n<polygon fill=\"none\" stroke=\"#000000\" points=\"335,-55.5 335,-91.5 537,-91.5 537,-55.5 335,-55.5\"/>\n<text text-anchor=\"middle\" x=\"345\" y=\"-69.8\" font-family=\"Times,serif\" font-size=\"14.00\" fill=\"#000000\"> </text>\n<polyline fill=\"none\" stroke=\"#000000\" points=\"355,-55.5 355,-91.5 \"/>\n<text text-anchor=\"middle\" x=\"402.5\" y=\"-69.8\" font-family=\"Times,serif\" font-size=\"14.00\" fill=\"#000000\">valor &#45;6.0000</text>\n<polyline fill=\"none\" stroke=\"#000000\" points=\"450,-55.5 450,-91.5 \"/>\n<text text-anchor=\"middle\" x=\"493.5\" y=\"-69.8\" font-family=\"Times,serif\" font-size=\"14.00\" fill=\"#000000\">grad 0.0000</text>\n</g>\n<!-- 140321069913936&#45;&gt;140321069914448+ -->\n<g id=\"edge6\" class=\"edge\">\n<title>140321069913936&#45;&gt;140321069914448+</title>\n<path fill=\"none\" stroke=\"#000000\" d=\"M537.4765,-56.486C547.8837,-54.741 557.8999,-53.0617 566.8359,-51.5634\"/>\n<polygon fill=\"#000000\" stroke=\"#000000\" points=\"567.5051,-55.0002 576.7886,-49.8947 566.3475,-48.0966 567.5051,-55.0002\"/>\n</g>\n<!-- 140321069913936*&#45;&gt;140321069913936 -->\n<g id=\"edge1\" class=\"edge\">\n<title>140321069913936*&#45;&gt;140321069913936</title>\n<path fill=\"none\" stroke=\"#000000\" d=\"M296.2031,-73.5C304.5379,-73.5 314.2736,-73.5 324.658,-73.5\"/>\n<polygon fill=\"#000000\" stroke=\"#000000\" points=\"324.7884,-77.0001 334.7884,-73.5 324.7883,-70.0001 324.7884,-77.0001\"/>\n</g>\n<!-- 140321069914448 -->\n<g id=\"node5\" class=\"node\">\n<title>140321069914448</title>\n<polygon fill=\"none\" stroke=\"#000000\" points=\"666,-27.5 666,-63.5 864,-63.5 864,-27.5 666,-27.5\"/>\n<text text-anchor=\"middle\" x=\"676\" y=\"-41.8\" font-family=\"Times,serif\" font-size=\"14.00\" fill=\"#000000\"> </text>\n<polyline fill=\"none\" stroke=\"#000000\" points=\"686,-27.5 686,-63.5 \"/>\n<text text-anchor=\"middle\" x=\"731.5\" y=\"-41.8\" font-family=\"Times,serif\" font-size=\"14.00\" fill=\"#000000\">valor 4.0000</text>\n<polyline fill=\"none\" stroke=\"#000000\" points=\"777,-27.5 777,-63.5 \"/>\n<text text-anchor=\"middle\" x=\"820.5\" y=\"-41.8\" font-family=\"Times,serif\" font-size=\"14.00\" fill=\"#000000\">grad 0.0000</text>\n</g>\n<!-- 140321069914448+&#45;&gt;140321069914448 -->\n<g id=\"edge2\" class=\"edge\">\n<title>140321069914448+&#45;&gt;140321069914448</title>\n<path fill=\"none\" stroke=\"#000000\" d=\"M630.1152,-45.5C637.656,-45.5 646.3371,-45.5 655.584,-45.5\"/>\n<polygon fill=\"#000000\" stroke=\"#000000\" points=\"655.8128,-49.0001 665.8128,-45.5 655.8127,-42.0001 655.8128,-49.0001\"/>\n</g>\n<!-- 140321069814224 -->\n<g id=\"node7\" class=\"node\">\n<title>140321069814224</title>\n<polygon fill=\"none\" stroke=\"#000000\" points=\"2.5,-28.5 2.5,-64.5 203.5,-64.5 203.5,-28.5 2.5,-28.5\"/>\n<text text-anchor=\"middle\" x=\"14\" y=\"-42.8\" font-family=\"Times,serif\" font-size=\"14.00\" fill=\"#000000\">a</text>\n<polyline fill=\"none\" stroke=\"#000000\" points=\"25.5,-28.5 25.5,-64.5 \"/>\n<text text-anchor=\"middle\" x=\"71\" y=\"-42.8\" font-family=\"Times,serif\" font-size=\"14.00\" fill=\"#000000\">valor 2.0000</text>\n<polyline fill=\"none\" stroke=\"#000000\" points=\"116.5,-28.5 116.5,-64.5 \"/>\n<text text-anchor=\"middle\" x=\"160\" y=\"-42.8\" font-family=\"Times,serif\" font-size=\"14.00\" fill=\"#000000\">grad 0.0000</text>\n</g>\n<!-- 140321069814224&#45;&gt;140321069913936* -->\n<g id=\"edge4\" class=\"edge\">\n<title>140321069814224&#45;&gt;140321069913936*</title>\n<path fill=\"none\" stroke=\"#000000\" d=\"M203.8688,-62.9064C214.0048,-64.555 223.7675,-66.1429 232.5128,-67.5653\"/>\n<polygon fill=\"#000000\" stroke=\"#000000\" points=\"232.2001,-71.0604 242.6323,-69.2113 233.324,-64.1512 232.2001,-71.0604\"/>\n</g>\n</g>\n</svg>\n"
          },
          "metadata": {},
          "execution_count": 86
        }
      ]
    },
    {
      "cell_type": "code",
      "source": [
        "graficar(L)"
      ],
      "metadata": {
        "colab": {
          "base_uri": "https://localhost:8080/",
          "height": 249
        },
        "id": "NopaQnsB7xsH",
        "outputId": "8c6d9b77-fb57-44dd-f2a9-0e38f050c751"
      },
      "execution_count": null,
      "outputs": [
        {
          "output_type": "execute_result",
          "data": {
            "text/plain": [
              "<graphviz.dot.Digraph at 0x7f9f0b855190>"
            ],
            "image/svg+xml": "<?xml version=\"1.0\" encoding=\"UTF-8\" standalone=\"no\"?>\n<!DOCTYPE svg PUBLIC \"-//W3C//DTD SVG 1.1//EN\"\n \"http://www.w3.org/Graphics/SVG/1.1/DTD/svg11.dtd\">\n<!-- Generated by graphviz version 2.40.1 (20161225.0304)\n -->\n<!-- Title: %3 Pages: 1 -->\n<svg width=\"1211pt\" height=\"156pt\"\n viewBox=\"0.00 0.00 1211.00 156.00\" xmlns=\"http://www.w3.org/2000/svg\" xmlns:xlink=\"http://www.w3.org/1999/xlink\">\n<g id=\"graph0\" class=\"graph\" transform=\"scale(1 1) rotate(0) translate(4 152)\">\n<title>%3</title>\n<polygon fill=\"#ffffff\" stroke=\"transparent\" points=\"-4,4 -4,-152 1207,-152 1207,4 -4,4\"/>\n<!-- 140321070662160 -->\n<g id=\"node1\" class=\"node\">\n<title>140321070662160</title>\n<polygon fill=\"none\" stroke=\"#000000\" points=\"0,-111.5 0,-147.5 206,-147.5 206,-111.5 0,-111.5\"/>\n<text text-anchor=\"middle\" x=\"12\" y=\"-125.8\" font-family=\"Times,serif\" font-size=\"14.00\" fill=\"#000000\">b</text>\n<polyline fill=\"none\" stroke=\"#000000\" points=\"24,-111.5 24,-147.5 \"/>\n<text text-anchor=\"middle\" x=\"71.5\" y=\"-125.8\" font-family=\"Times,serif\" font-size=\"14.00\" fill=\"#000000\">valor &#45;3.0000</text>\n<polyline fill=\"none\" stroke=\"#000000\" points=\"119,-111.5 119,-147.5 \"/>\n<text text-anchor=\"middle\" x=\"162.5\" y=\"-125.8\" font-family=\"Times,serif\" font-size=\"14.00\" fill=\"#000000\">grad 0.0000</text>\n</g>\n<!-- 140321070662480* -->\n<g id=\"node8\" class=\"node\">\n<title>140321070662480*</title>\n<ellipse fill=\"none\" stroke=\"#000000\" cx=\"269\" cy=\"-101.5\" rx=\"27\" ry=\"18\"/>\n<text text-anchor=\"middle\" x=\"269\" y=\"-97.8\" font-family=\"Times,serif\" font-size=\"14.00\" fill=\"#000000\">*</text>\n</g>\n<!-- 140321070662160&#45;&gt;140321070662480* -->\n<g id=\"edge5\" class=\"edge\">\n<title>140321070662160&#45;&gt;140321070662480*</title>\n<path fill=\"none\" stroke=\"#000000\" d=\"M206.2425,-112.0856C215.5947,-110.5081 224.5817,-108.9922 232.6881,-107.6249\"/>\n<polygon fill=\"#000000\" stroke=\"#000000\" points=\"233.5156,-111.0348 242.7941,-105.9203 232.3513,-104.1324 233.5156,-111.0348\"/>\n</g>\n<!-- 140321070663760 -->\n<g id=\"node2\" class=\"node\">\n<title>140321070663760</title>\n<polygon fill=\"none\" stroke=\"#000000\" points=\"995,-27.5 995,-63.5 1203,-63.5 1203,-27.5 995,-27.5\"/>\n<text text-anchor=\"middle\" x=\"1008\" y=\"-41.8\" font-family=\"Times,serif\" font-size=\"14.00\" fill=\"#000000\">L</text>\n<polyline fill=\"none\" stroke=\"#000000\" points=\"1021,-27.5 1021,-63.5 \"/>\n<text text-anchor=\"middle\" x=\"1068.5\" y=\"-41.8\" font-family=\"Times,serif\" font-size=\"14.00\" fill=\"#000000\">valor &#45;8.0000</text>\n<polyline fill=\"none\" stroke=\"#000000\" points=\"1116,-27.5 1116,-63.5 \"/>\n<text text-anchor=\"middle\" x=\"1159.5\" y=\"-41.8\" font-family=\"Times,serif\" font-size=\"14.00\" fill=\"#000000\">grad 0.0000</text>\n</g>\n<!-- 140321070663760* -->\n<g id=\"node3\" class=\"node\">\n<title>140321070663760*</title>\n<ellipse fill=\"none\" stroke=\"#000000\" cx=\"932\" cy=\"-45.5\" rx=\"27\" ry=\"18\"/>\n<text text-anchor=\"middle\" x=\"932\" y=\"-41.8\" font-family=\"Times,serif\" font-size=\"14.00\" fill=\"#000000\">*</text>\n</g>\n<!-- 140321070663760*&#45;&gt;140321070663760 -->\n<g id=\"edge1\" class=\"edge\">\n<title>140321070663760*&#45;&gt;140321070663760</title>\n<path fill=\"none\" stroke=\"#000000\" d=\"M959.2031,-45.5C966.7372,-45.5 975.4158,-45.5 984.6835,-45.5\"/>\n<polygon fill=\"#000000\" stroke=\"#000000\" points=\"984.945,-49.0001 994.945,-45.5 984.9449,-42.0001 984.945,-49.0001\"/>\n</g>\n<!-- 140321070662800 -->\n<g id=\"node4\" class=\"node\">\n<title>140321070662800</title>\n<polygon fill=\"none\" stroke=\"#000000\" points=\"666,-.5 666,-36.5 869,-36.5 869,-.5 666,-.5\"/>\n<text text-anchor=\"middle\" x=\"676.5\" y=\"-14.8\" font-family=\"Times,serif\" font-size=\"14.00\" fill=\"#000000\">f</text>\n<polyline fill=\"none\" stroke=\"#000000\" points=\"687,-.5 687,-36.5 \"/>\n<text text-anchor=\"middle\" x=\"734.5\" y=\"-14.8\" font-family=\"Times,serif\" font-size=\"14.00\" fill=\"#000000\">valor &#45;2.0000</text>\n<polyline fill=\"none\" stroke=\"#000000\" points=\"782,-.5 782,-36.5 \"/>\n<text text-anchor=\"middle\" x=\"825.5\" y=\"-14.8\" font-family=\"Times,serif\" font-size=\"14.00\" fill=\"#000000\">grad 0.0000</text>\n</g>\n<!-- 140321070662800&#45;&gt;140321070663760* -->\n<g id=\"edge7\" class=\"edge\">\n<title>140321070662800&#45;&gt;140321070663760*</title>\n<path fill=\"none\" stroke=\"#000000\" d=\"M869.3403,-35.2154C878.572,-36.7307 887.4541,-38.1885 895.4837,-39.5064\"/>\n<polygon fill=\"#000000\" stroke=\"#000000\" points=\"895.0711,-42.9855 905.506,-41.1514 896.205,-36.0779 895.0711,-42.9855\"/>\n</g>\n<!-- 140321070662928 -->\n<g id=\"node5\" class=\"node\">\n<title>140321070662928</title>\n<polygon fill=\"none\" stroke=\"#000000\" points=\"666.5,-55.5 666.5,-91.5 868.5,-91.5 868.5,-55.5 666.5,-55.5\"/>\n<text text-anchor=\"middle\" x=\"678.5\" y=\"-69.8\" font-family=\"Times,serif\" font-size=\"14.00\" fill=\"#000000\">d</text>\n<polyline fill=\"none\" stroke=\"#000000\" points=\"690.5,-55.5 690.5,-91.5 \"/>\n<text text-anchor=\"middle\" x=\"736\" y=\"-69.8\" font-family=\"Times,serif\" font-size=\"14.00\" fill=\"#000000\">valor 4.0000</text>\n<polyline fill=\"none\" stroke=\"#000000\" points=\"781.5,-55.5 781.5,-91.5 \"/>\n<text text-anchor=\"middle\" x=\"825\" y=\"-69.8\" font-family=\"Times,serif\" font-size=\"14.00\" fill=\"#000000\">grad 0.0000</text>\n</g>\n<!-- 140321070662928&#45;&gt;140321070663760* -->\n<g id=\"edge6\" class=\"edge\">\n<title>140321070662928&#45;&gt;140321070663760*</title>\n<path fill=\"none\" stroke=\"#000000\" d=\"M868.8705,-56.2455C878.3542,-54.6312 887.4788,-53.0781 895.7013,-51.6785\"/>\n<polygon fill=\"#000000\" stroke=\"#000000\" points=\"896.3222,-55.1233 905.593,-49.9948 895.1475,-48.2225 896.3222,-55.1233\"/>\n</g>\n<!-- 140321070662928+ -->\n<g id=\"node6\" class=\"node\">\n<title>140321070662928+</title>\n<ellipse fill=\"none\" stroke=\"#000000\" cx=\"603\" cy=\"-73.5\" rx=\"27\" ry=\"18\"/>\n<text text-anchor=\"middle\" x=\"603\" y=\"-69.8\" font-family=\"Times,serif\" font-size=\"14.00\" fill=\"#000000\">+</text>\n</g>\n<!-- 140321070662928+&#45;&gt;140321070662928 -->\n<g id=\"edge2\" class=\"edge\">\n<title>140321070662928+&#45;&gt;140321070662928</title>\n<path fill=\"none\" stroke=\"#000000\" d=\"M630.1638,-73.5C637.8849,-73.5 646.8045,-73.5 656.3157,-73.5\"/>\n<polygon fill=\"#000000\" stroke=\"#000000\" points=\"656.4162,-77.0001 666.4162,-73.5 656.4161,-70.0001 656.4162,-77.0001\"/>\n</g>\n<!-- 140321070662480 -->\n<g id=\"node7\" class=\"node\">\n<title>140321070662480</title>\n<polygon fill=\"none\" stroke=\"#000000\" points=\"333.5,-83.5 333.5,-119.5 538.5,-119.5 538.5,-83.5 333.5,-83.5\"/>\n<text text-anchor=\"middle\" x=\"345\" y=\"-97.8\" font-family=\"Times,serif\" font-size=\"14.00\" fill=\"#000000\">e</text>\n<polyline fill=\"none\" stroke=\"#000000\" points=\"356.5,-83.5 356.5,-119.5 \"/>\n<text text-anchor=\"middle\" x=\"404\" y=\"-97.8\" font-family=\"Times,serif\" font-size=\"14.00\" fill=\"#000000\">valor &#45;6.0000</text>\n<polyline fill=\"none\" stroke=\"#000000\" points=\"451.5,-83.5 451.5,-119.5 \"/>\n<text text-anchor=\"middle\" x=\"495\" y=\"-97.8\" font-family=\"Times,serif\" font-size=\"14.00\" fill=\"#000000\">grad 0.0000</text>\n</g>\n<!-- 140321070662480&#45;&gt;140321070662928+ -->\n<g id=\"edge9\" class=\"edge\">\n<title>140321070662480&#45;&gt;140321070662928+</title>\n<path fill=\"none\" stroke=\"#000000\" d=\"M538.911,-84.2455C548.8367,-82.5813 558.375,-80.982 566.9217,-79.549\"/>\n<polygon fill=\"#000000\" stroke=\"#000000\" points=\"567.5309,-82.9959 576.8145,-77.8904 566.3733,-76.0922 567.5309,-82.9959\"/>\n</g>\n<!-- 140321070662480*&#45;&gt;140321070662480 -->\n<g id=\"edge3\" class=\"edge\">\n<title>140321070662480*&#45;&gt;140321070662480</title>\n<path fill=\"none\" stroke=\"#000000\" d=\"M296.2031,-101.5C304.1747,-101.5 313.4277,-101.5 323.3042,-101.5\"/>\n<polygon fill=\"#000000\" stroke=\"#000000\" points=\"323.3641,-105.0001 333.3641,-101.5 323.364,-98.0001 323.3641,-105.0001\"/>\n</g>\n<!-- 140321069814224 -->\n<g id=\"node9\" class=\"node\">\n<title>140321069814224</title>\n<polygon fill=\"none\" stroke=\"#000000\" points=\"2.5,-56.5 2.5,-92.5 203.5,-92.5 203.5,-56.5 2.5,-56.5\"/>\n<text text-anchor=\"middle\" x=\"14\" y=\"-70.8\" font-family=\"Times,serif\" font-size=\"14.00\" fill=\"#000000\">a</text>\n<polyline fill=\"none\" stroke=\"#000000\" points=\"25.5,-56.5 25.5,-92.5 \"/>\n<text text-anchor=\"middle\" x=\"71\" y=\"-70.8\" font-family=\"Times,serif\" font-size=\"14.00\" fill=\"#000000\">valor 2.0000</text>\n<polyline fill=\"none\" stroke=\"#000000\" points=\"116.5,-56.5 116.5,-92.5 \"/>\n<text text-anchor=\"middle\" x=\"160\" y=\"-70.8\" font-family=\"Times,serif\" font-size=\"14.00\" fill=\"#000000\">grad 0.0000</text>\n</g>\n<!-- 140321069814224&#45;&gt;140321070662480* -->\n<g id=\"edge8\" class=\"edge\">\n<title>140321069814224&#45;&gt;140321070662480*</title>\n<path fill=\"none\" stroke=\"#000000\" d=\"M203.8688,-90.9064C214.0048,-92.555 223.7675,-94.1429 232.5128,-95.5653\"/>\n<polygon fill=\"#000000\" stroke=\"#000000\" points=\"232.2001,-99.0604 242.6323,-97.2113 233.324,-92.1512 232.2001,-99.0604\"/>\n</g>\n<!-- 140321070662608 -->\n<g id=\"node10\" class=\"node\">\n<title>140321070662608</title>\n<polygon fill=\"none\" stroke=\"#000000\" points=\"332,-28.5 332,-64.5 540,-64.5 540,-28.5 332,-28.5\"/>\n<text text-anchor=\"middle\" x=\"343.5\" y=\"-42.8\" font-family=\"Times,serif\" font-size=\"14.00\" fill=\"#000000\">c</text>\n<polyline fill=\"none\" stroke=\"#000000\" points=\"355,-28.5 355,-64.5 \"/>\n<text text-anchor=\"middle\" x=\"404\" y=\"-42.8\" font-family=\"Times,serif\" font-size=\"14.00\" fill=\"#000000\">valor 10.0000</text>\n<polyline fill=\"none\" stroke=\"#000000\" points=\"453,-28.5 453,-64.5 \"/>\n<text text-anchor=\"middle\" x=\"496.5\" y=\"-42.8\" font-family=\"Times,serif\" font-size=\"14.00\" fill=\"#000000\">grad 0.0000</text>\n</g>\n<!-- 140321070662608&#45;&gt;140321070662928+ -->\n<g id=\"edge4\" class=\"edge\">\n<title>140321070662608&#45;&gt;140321070662928+</title>\n<path fill=\"none\" stroke=\"#000000\" d=\"M540.3402,-63.3694C549.6006,-64.8666 558.4956,-66.3047 566.5289,-67.6035\"/>\n<polygon fill=\"#000000\" stroke=\"#000000\" points=\"566.1209,-71.0829 576.5513,-69.2239 567.2382,-64.1726 566.1209,-71.0829\"/>\n</g>\n</g>\n</svg>\n"
          },
          "metadata": {},
          "execution_count": 87
        }
      ]
    },
    {
      "cell_type": "code",
      "source": [
        "def jaja():\n",
        "  h = 0.00001\n",
        "\n",
        "  a = Valor(2.0, etiqueta='a')\n",
        "  b = Valor(-3.0, etiqueta='b')\n",
        "  c = Valor(10.0, etiqueta='c')\n",
        "  e = a*b; e.etiqueta='e'\n",
        "  d = e+c; d.etiqueta='d'\n",
        "  f = Valor(-2.0, etiqueta='f')\n",
        "  L = d * f; L.etiqueta='L'\n",
        "  L1 = L.valor\n",
        "\n",
        "  a = Valor(2.0, etiqueta='a')\n",
        "  b = Valor(-3.0, etiqueta='b')\n",
        "  b.valor += h\n",
        "  c = Valor(10.0, etiqueta='c')\n",
        "  e = a*b; e.etiqueta='e'\n",
        "  d = e+c; d.etiqueta='d'\n",
        "  f = Valor(-2.0, etiqueta='f')\n",
        "  L = d * f; L.etiqueta='L'\n",
        "  L2 = L.valor\n",
        "\n",
        "  print((L2 - L1)/h)\n",
        "\n",
        "\n",
        "jaja()"
      ],
      "metadata": {
        "colab": {
          "base_uri": "https://localhost:8080/"
        },
        "id": "qLZUjZV8-YM-",
        "outputId": "aa3f1d18-c2ce-4e48-9ae7-86cb29c47d83"
      },
      "execution_count": 123,
      "outputs": [
        {
          "output_type": "stream",
          "name": "stdout",
          "text": [
            "-4.000000000026205\n"
          ]
        }
      ]
    },
    {
      "cell_type": "code",
      "source": [
        "# BACKPROP\n",
        "\n",
        "L.grad = 1.0 # derivada de L sobre sí misma es 1\n",
        "f.grad = d.valor # derivada de los valores que se multiplican es la recíproca\n",
        "d.grad = f.valor\n",
        "c.grad = d.grad # derivada de valores sumados es la derivada del valor producido (porque se multiplican las locales entre sí y la derivada de la suma es 1)\n",
        "e.grad = d.grad\n",
        "a.grad = b.valor * e.grad\n",
        "b.grad = a.valor * e.grad\n",
        "graficar(L)"
      ],
      "metadata": {
        "colab": {
          "base_uri": "https://localhost:8080/",
          "height": 249
        },
        "id": "e5EzOy_yA-qH",
        "outputId": "1fd69ecb-231c-405b-e41a-2063fb9dbd21"
      },
      "execution_count": 144,
      "outputs": [
        {
          "output_type": "execute_result",
          "data": {
            "text/plain": [
              "<graphviz.dot.Digraph at 0x7f9f0b7ffcd0>"
            ],
            "image/svg+xml": "<?xml version=\"1.0\" encoding=\"UTF-8\" standalone=\"no\"?>\n<!DOCTYPE svg PUBLIC \"-//W3C//DTD SVG 1.1//EN\"\n \"http://www.w3.org/Graphics/SVG/1.1/DTD/svg11.dtd\">\n<!-- Generated by graphviz version 2.40.1 (20161225.0304)\n -->\n<!-- Title: %3 Pages: 1 -->\n<svg width=\"1221pt\" height=\"156pt\"\n viewBox=\"0.00 0.00 1221.00 156.00\" xmlns=\"http://www.w3.org/2000/svg\" xmlns:xlink=\"http://www.w3.org/1999/xlink\">\n<g id=\"graph0\" class=\"graph\" transform=\"scale(1 1) rotate(0) translate(4 152)\">\n<title>%3</title>\n<polygon fill=\"#ffffff\" stroke=\"transparent\" points=\"-4,4 -4,-152 1217,-152 1217,4 -4,4\"/>\n<!-- 140321069974544 -->\n<g id=\"node1\" class=\"node\">\n<title>140321069974544</title>\n<polygon fill=\"none\" stroke=\"#000000\" points=\"0,-111.5 0,-147.5 211,-147.5 211,-111.5 0,-111.5\"/>\n<text text-anchor=\"middle\" x=\"12\" y=\"-125.8\" font-family=\"Times,serif\" font-size=\"14.00\" fill=\"#000000\">b</text>\n<polyline fill=\"none\" stroke=\"#000000\" points=\"24,-111.5 24,-147.5 \"/>\n<text text-anchor=\"middle\" x=\"71.5\" y=\"-125.8\" font-family=\"Times,serif\" font-size=\"14.00\" fill=\"#000000\">valor &#45;3.0000</text>\n<polyline fill=\"none\" stroke=\"#000000\" points=\"119,-111.5 119,-147.5 \"/>\n<text text-anchor=\"middle\" x=\"165\" y=\"-125.8\" font-family=\"Times,serif\" font-size=\"14.00\" fill=\"#000000\">grad &#45;4.0000</text>\n</g>\n<!-- 140321069975312* -->\n<g id=\"node7\" class=\"node\">\n<title>140321069975312*</title>\n<ellipse fill=\"none\" stroke=\"#000000\" cx=\"274\" cy=\"-101.5\" rx=\"27\" ry=\"18\"/>\n<text text-anchor=\"middle\" x=\"274\" y=\"-97.8\" font-family=\"Times,serif\" font-size=\"14.00\" fill=\"#000000\">*</text>\n</g>\n<!-- 140321069974544&#45;&gt;140321069975312* -->\n<g id=\"edge5\" class=\"edge\">\n<title>140321069974544&#45;&gt;140321069975312*</title>\n<path fill=\"none\" stroke=\"#000000\" d=\"M211.2568,-111.9262C220.5438,-110.3829 229.4571,-108.9018 237.5029,-107.5648\"/>\n<polygon fill=\"#000000\" stroke=\"#000000\" points=\"238.2477,-110.9891 247.5387,-105.8971 237.1002,-104.0838 238.2477,-110.9891\"/>\n</g>\n<!-- 140321070127760 -->\n<g id=\"node2\" class=\"node\">\n<title>140321070127760</title>\n<polygon fill=\"none\" stroke=\"#000000\" points=\"5,-56.5 5,-92.5 206,-92.5 206,-56.5 5,-56.5\"/>\n<text text-anchor=\"middle\" x=\"16.5\" y=\"-70.8\" font-family=\"Times,serif\" font-size=\"14.00\" fill=\"#000000\">a</text>\n<polyline fill=\"none\" stroke=\"#000000\" points=\"28,-56.5 28,-92.5 \"/>\n<text text-anchor=\"middle\" x=\"73.5\" y=\"-70.8\" font-family=\"Times,serif\" font-size=\"14.00\" fill=\"#000000\">valor 2.0000</text>\n<polyline fill=\"none\" stroke=\"#000000\" points=\"119,-56.5 119,-92.5 \"/>\n<text text-anchor=\"middle\" x=\"162.5\" y=\"-70.8\" font-family=\"Times,serif\" font-size=\"14.00\" fill=\"#000000\">grad 6.0000</text>\n</g>\n<!-- 140321070127760&#45;&gt;140321069975312* -->\n<g id=\"edge6\" class=\"edge\">\n<title>140321070127760&#45;&gt;140321069975312*</title>\n<path fill=\"none\" stroke=\"#000000\" d=\"M206.4355,-90.6736C217.4352,-92.4362 228.0396,-94.1354 237.4576,-95.6445\"/>\n<polygon fill=\"#000000\" stroke=\"#000000\" points=\"237.1167,-99.1345 247.5445,-97.2608 238.2242,-92.2227 237.1167,-99.1345\"/>\n</g>\n<!-- 140321069976272 -->\n<g id=\"node3\" class=\"node\">\n<title>140321069976272</title>\n<polygon fill=\"none\" stroke=\"#000000\" points=\"676.5,-55.5 676.5,-91.5 878.5,-91.5 878.5,-55.5 676.5,-55.5\"/>\n<text text-anchor=\"middle\" x=\"688.5\" y=\"-69.8\" font-family=\"Times,serif\" font-size=\"14.00\" fill=\"#000000\">d</text>\n<polyline fill=\"none\" stroke=\"#000000\" points=\"700.5,-55.5 700.5,-91.5 \"/>\n<text text-anchor=\"middle\" x=\"746\" y=\"-69.8\" font-family=\"Times,serif\" font-size=\"14.00\" fill=\"#000000\">valor 4.0000</text>\n<polyline fill=\"none\" stroke=\"#000000\" points=\"791.5,-55.5 791.5,-91.5 \"/>\n<text text-anchor=\"middle\" x=\"835\" y=\"-69.8\" font-family=\"Times,serif\" font-size=\"14.00\" fill=\"#000000\">grad 0.0000</text>\n</g>\n<!-- 140321069976016* -->\n<g id=\"node10\" class=\"node\">\n<title>140321069976016*</title>\n<ellipse fill=\"none\" stroke=\"#000000\" cx=\"942\" cy=\"-45.5\" rx=\"27\" ry=\"18\"/>\n<text text-anchor=\"middle\" x=\"942\" y=\"-41.8\" font-family=\"Times,serif\" font-size=\"14.00\" fill=\"#000000\">*</text>\n</g>\n<!-- 140321069976272&#45;&gt;140321069976016* -->\n<g id=\"edge7\" class=\"edge\">\n<title>140321069976272&#45;&gt;140321069976016*</title>\n<path fill=\"none\" stroke=\"#000000\" d=\"M878.8705,-56.2455C888.3542,-54.6312 897.4788,-53.0781 905.7013,-51.6785\"/>\n<polygon fill=\"#000000\" stroke=\"#000000\" points=\"906.3222,-55.1233 915.593,-49.9948 905.1475,-48.2225 906.3222,-55.1233\"/>\n</g>\n<!-- 140321069976272+ -->\n<g id=\"node4\" class=\"node\">\n<title>140321069976272+</title>\n<ellipse fill=\"none\" stroke=\"#000000\" cx=\"613\" cy=\"-73.5\" rx=\"27\" ry=\"18\"/>\n<text text-anchor=\"middle\" x=\"613\" y=\"-69.8\" font-family=\"Times,serif\" font-size=\"14.00\" fill=\"#000000\">+</text>\n</g>\n<!-- 140321069976272+&#45;&gt;140321069976272 -->\n<g id=\"edge1\" class=\"edge\">\n<title>140321069976272+&#45;&gt;140321069976272</title>\n<path fill=\"none\" stroke=\"#000000\" d=\"M640.1638,-73.5C647.8849,-73.5 656.8045,-73.5 666.3157,-73.5\"/>\n<polygon fill=\"#000000\" stroke=\"#000000\" points=\"666.4162,-77.0001 676.4162,-73.5 666.4161,-70.0001 666.4162,-77.0001\"/>\n</g>\n<!-- 140321069975824 -->\n<g id=\"node5\" class=\"node\">\n<title>140321069975824</title>\n<polygon fill=\"none\" stroke=\"#000000\" points=\"676,-.5 676,-36.5 879,-36.5 879,-.5 676,-.5\"/>\n<text text-anchor=\"middle\" x=\"686.5\" y=\"-14.8\" font-family=\"Times,serif\" font-size=\"14.00\" fill=\"#000000\">f</text>\n<polyline fill=\"none\" stroke=\"#000000\" points=\"697,-.5 697,-36.5 \"/>\n<text text-anchor=\"middle\" x=\"744.5\" y=\"-14.8\" font-family=\"Times,serif\" font-size=\"14.00\" fill=\"#000000\">valor &#45;2.0000</text>\n<polyline fill=\"none\" stroke=\"#000000\" points=\"792,-.5 792,-36.5 \"/>\n<text text-anchor=\"middle\" x=\"835.5\" y=\"-14.8\" font-family=\"Times,serif\" font-size=\"14.00\" fill=\"#000000\">grad 4.0000</text>\n</g>\n<!-- 140321069975824&#45;&gt;140321069976016* -->\n<g id=\"edge4\" class=\"edge\">\n<title>140321069975824&#45;&gt;140321069976016*</title>\n<path fill=\"none\" stroke=\"#000000\" d=\"M879.3403,-35.2154C888.572,-36.7307 897.4541,-38.1885 905.4837,-39.5064\"/>\n<polygon fill=\"#000000\" stroke=\"#000000\" points=\"905.0711,-42.9855 915.506,-41.1514 906.205,-36.0779 905.0711,-42.9855\"/>\n</g>\n<!-- 140321069975312 -->\n<g id=\"node6\" class=\"node\">\n<title>140321069975312</title>\n<polygon fill=\"none\" stroke=\"#000000\" points=\"338.5,-83.5 338.5,-119.5 548.5,-119.5 548.5,-83.5 338.5,-83.5\"/>\n<text text-anchor=\"middle\" x=\"350\" y=\"-97.8\" font-family=\"Times,serif\" font-size=\"14.00\" fill=\"#000000\">e</text>\n<polyline fill=\"none\" stroke=\"#000000\" points=\"361.5,-83.5 361.5,-119.5 \"/>\n<text text-anchor=\"middle\" x=\"409\" y=\"-97.8\" font-family=\"Times,serif\" font-size=\"14.00\" fill=\"#000000\">valor &#45;6.0000</text>\n<polyline fill=\"none\" stroke=\"#000000\" points=\"456.5,-83.5 456.5,-119.5 \"/>\n<text text-anchor=\"middle\" x=\"502.5\" y=\"-97.8\" font-family=\"Times,serif\" font-size=\"14.00\" fill=\"#000000\">grad &#45;2.0000</text>\n</g>\n<!-- 140321069975312&#45;&gt;140321069976272+ -->\n<g id=\"edge8\" class=\"edge\">\n<title>140321069975312&#45;&gt;140321069976272+</title>\n<path fill=\"none\" stroke=\"#000000\" d=\"M548.9193,-84.0856C558.6706,-82.4748 568.0332,-80.9282 576.4465,-79.5383\"/>\n<polygon fill=\"#000000\" stroke=\"#000000\" points=\"577.2576,-82.9519 586.5534,-77.8688 576.1167,-76.0455 577.2576,-82.9519\"/>\n</g>\n<!-- 140321069975312*&#45;&gt;140321069975312 -->\n<g id=\"edge2\" class=\"edge\">\n<title>140321069975312*&#45;&gt;140321069975312</title>\n<path fill=\"none\" stroke=\"#000000\" d=\"M301.2331,-101.5C309.1641,-101.5 318.3676,-101.5 328.2049,-101.5\"/>\n<polygon fill=\"#000000\" stroke=\"#000000\" points=\"328.2299,-105.0001 338.2298,-101.5 328.2298,-98.0001 328.2299,-105.0001\"/>\n</g>\n<!-- 140321069976912 -->\n<g id=\"node8\" class=\"node\">\n<title>140321069976912</title>\n<polygon fill=\"none\" stroke=\"#000000\" points=\"337,-28.5 337,-64.5 550,-64.5 550,-28.5 337,-28.5\"/>\n<text text-anchor=\"middle\" x=\"348.5\" y=\"-42.8\" font-family=\"Times,serif\" font-size=\"14.00\" fill=\"#000000\">c</text>\n<polyline fill=\"none\" stroke=\"#000000\" points=\"360,-28.5 360,-64.5 \"/>\n<text text-anchor=\"middle\" x=\"409\" y=\"-42.8\" font-family=\"Times,serif\" font-size=\"14.00\" fill=\"#000000\">valor 10.0000</text>\n<polyline fill=\"none\" stroke=\"#000000\" points=\"458,-28.5 458,-64.5 \"/>\n<text text-anchor=\"middle\" x=\"504\" y=\"-42.8\" font-family=\"Times,serif\" font-size=\"14.00\" fill=\"#000000\">grad &#45;2.0000</text>\n</g>\n<!-- 140321069976912&#45;&gt;140321069976272+ -->\n<g id=\"edge9\" class=\"edge\">\n<title>140321069976912&#45;&gt;140321069976272+</title>\n<path fill=\"none\" stroke=\"#000000\" d=\"M550.366,-63.5229C559.651,-65.0019 568.5553,-66.4203 576.5889,-67.7\"/>\n<polygon fill=\"#000000\" stroke=\"#000000\" points=\"576.1811,-71.1791 586.6072,-69.2958 577.2823,-64.2662 576.1811,-71.1791\"/>\n</g>\n<!-- 140321069976016 -->\n<g id=\"node9\" class=\"node\">\n<title>140321069976016</title>\n<polygon fill=\"none\" stroke=\"#000000\" points=\"1005,-27.5 1005,-63.5 1213,-63.5 1213,-27.5 1005,-27.5\"/>\n<text text-anchor=\"middle\" x=\"1018\" y=\"-41.8\" font-family=\"Times,serif\" font-size=\"14.00\" fill=\"#000000\">L</text>\n<polyline fill=\"none\" stroke=\"#000000\" points=\"1031,-27.5 1031,-63.5 \"/>\n<text text-anchor=\"middle\" x=\"1078.5\" y=\"-41.8\" font-family=\"Times,serif\" font-size=\"14.00\" fill=\"#000000\">valor &#45;8.0000</text>\n<polyline fill=\"none\" stroke=\"#000000\" points=\"1126,-27.5 1126,-63.5 \"/>\n<text text-anchor=\"middle\" x=\"1169.5\" y=\"-41.8\" font-family=\"Times,serif\" font-size=\"14.00\" fill=\"#000000\">grad 1.0000</text>\n</g>\n<!-- 140321069976016*&#45;&gt;140321069976016 -->\n<g id=\"edge3\" class=\"edge\">\n<title>140321069976016*&#45;&gt;140321069976016</title>\n<path fill=\"none\" stroke=\"#000000\" d=\"M969.2031,-45.5C976.7372,-45.5 985.4158,-45.5 994.6835,-45.5\"/>\n<polygon fill=\"#000000\" stroke=\"#000000\" points=\"994.945,-49.0001 1004.945,-45.5 994.9449,-42.0001 994.945,-49.0001\"/>\n</g>\n</g>\n</svg>\n"
          },
          "metadata": {},
          "execution_count": 144
        }
      ]
    },
    {
      "cell_type": "code",
      "source": [
        "# FORWARD PASS CON UN STEP (EPOCH?)\n",
        "\n",
        "a.valor += 0.01 * a.grad\n",
        "b.valor += 0.01 * b.grad\n",
        "c.valor += 0.01 * c.grad\n",
        "f.valor += 0.01 * f.grad\n",
        "e = a*b; e.etiqueta='e'\n",
        "d = e+c; d.etiqueta='d'\n",
        "L = d * f; L.etiqueta='L'\n",
        "\n",
        "print(L.valor)"
      ],
      "metadata": {
        "colab": {
          "base_uri": "https://localhost:8080/"
        },
        "id": "K00h9SZBdlDf",
        "outputId": "711d2f68-4c07-492a-afd5-9c05cff788cd"
      },
      "execution_count": 151,
      "outputs": [
        {
          "output_type": "stream",
          "name": "stdout",
          "text": [
            "-6.586368000000001\n"
          ]
        }
      ]
    },
    {
      "cell_type": "markdown",
      "source": [
        "Ejemplo:"
      ],
      "metadata": {
        "id": "wLR9ft-Fgql1"
      }
    },
    {
      "cell_type": "code",
      "source": [
        "x1 = Valor(2.0, etiqueta='x1')\n",
        "x2 = Valor(0.0, etiqueta='x2')\n",
        "\n",
        "w1 = Valor(-3.0, etiqueta='w1')\n",
        "w2 = Valor(1.0, etiqueta='w2')\n",
        "\n",
        "b = Valor(6.7, etiqueta='b')\n",
        "\n",
        "x1w1 = x1*w1; x1w1.etiqueta = 'x1*w1'\n",
        "x2w2 = x2*w2; x2w2.etiqueta = 'x2*w2'\n",
        "\n",
        "x1w1x2w2 = x1w1 + x2w2; x1w1x2w2.etiqueta = 'x1*w1 + x2*w2'\n",
        "n = x1w1x2w2 + b; n.etiqueta='n'\n",
        "o = n.tanh(); o.etiqueta='o'\n",
        "\n",
        "o.backward()\n",
        "\n",
        "graficar(o)"
      ],
      "metadata": {
        "colab": {
          "base_uri": "https://localhost:8080/",
          "height": 321
        },
        "id": "8ZxYUIdhd20x",
        "outputId": "95f55ecb-b614-497d-bb48-b72b761a6db2"
      },
      "execution_count": 228,
      "outputs": [
        {
          "output_type": "execute_result",
          "data": {
            "text/plain": [
              "<graphviz.dot.Digraph at 0x7f9f0b71e190>"
            ],
            "image/svg+xml": "<?xml version=\"1.0\" encoding=\"UTF-8\" standalone=\"no\"?>\n<!DOCTYPE svg PUBLIC \"-//W3C//DTD SVG 1.1//EN\"\n \"http://www.w3.org/Graphics/SVG/1.1/DTD/svg11.dtd\">\n<!-- Generated by graphviz version 2.40.1 (20161225.0304)\n -->\n<!-- Title: %3 Pages: 1 -->\n<svg width=\"1667pt\" height=\"210pt\"\n viewBox=\"0.00 0.00 1667.00 210.00\" xmlns=\"http://www.w3.org/2000/svg\" xmlns:xlink=\"http://www.w3.org/1999/xlink\">\n<g id=\"graph0\" class=\"graph\" transform=\"scale(1 1) rotate(0) translate(4 206)\">\n<title>%3</title>\n<polygon fill=\"#ffffff\" stroke=\"transparent\" points=\"-4,4 -4,-206 1663,-206 1663,4 -4,4\"/>\n<!-- 140321070050384 -->\n<g id=\"node1\" class=\"node\">\n<title>140321070050384</title>\n<polygon fill=\"none\" stroke=\"#000000\" points=\"3.5,-165.5 3.5,-201.5 213.5,-201.5 213.5,-165.5 3.5,-165.5\"/>\n<text text-anchor=\"middle\" x=\"19.5\" y=\"-179.8\" font-family=\"Times,serif\" font-size=\"14.00\" fill=\"#000000\">x2</text>\n<polyline fill=\"none\" stroke=\"#000000\" points=\"35.5,-165.5 35.5,-201.5 \"/>\n<text text-anchor=\"middle\" x=\"81\" y=\"-179.8\" font-family=\"Times,serif\" font-size=\"14.00\" fill=\"#000000\">valor 0.0000</text>\n<polyline fill=\"none\" stroke=\"#000000\" points=\"126.5,-165.5 126.5,-201.5 \"/>\n<text text-anchor=\"middle\" x=\"170\" y=\"-179.8\" font-family=\"Times,serif\" font-size=\"14.00\" fill=\"#000000\">grad 0.6347</text>\n</g>\n<!-- 140321068540560* -->\n<g id=\"node7\" class=\"node\">\n<title>140321068540560*</title>\n<ellipse fill=\"none\" stroke=\"#000000\" cx=\"280\" cy=\"-128.5\" rx=\"27\" ry=\"18\"/>\n<text text-anchor=\"middle\" x=\"280\" y=\"-124.8\" font-family=\"Times,serif\" font-size=\"14.00\" fill=\"#000000\">*</text>\n</g>\n<!-- 140321070050384&#45;&gt;140321068540560* -->\n<g id=\"edge6\" class=\"edge\">\n<title>140321070050384&#45;&gt;140321068540560*</title>\n<path fill=\"none\" stroke=\"#000000\" d=\"M187.7867,-165.4782C197.6997,-162.7252 207.6378,-159.7179 217,-156.5 227.6365,-152.8442 238.9528,-148.0995 249.0168,-143.558\"/>\n<polygon fill=\"#000000\" stroke=\"#000000\" points=\"250.6078,-146.6785 258.2189,-139.3082 247.6729,-140.3235 250.6078,-146.6785\"/>\n</g>\n<!-- 140321068539984 -->\n<g id=\"node2\" class=\"node\">\n<title>140321068539984</title>\n<polygon fill=\"none\" stroke=\"#000000\" points=\"343,-55.5 343,-91.5 582,-91.5 582,-55.5 343,-55.5\"/>\n<text text-anchor=\"middle\" x=\"371.5\" y=\"-69.8\" font-family=\"Times,serif\" font-size=\"14.00\" fill=\"#000000\">x1*w1</text>\n<polyline fill=\"none\" stroke=\"#000000\" points=\"400,-55.5 400,-91.5 \"/>\n<text text-anchor=\"middle\" x=\"447.5\" y=\"-69.8\" font-family=\"Times,serif\" font-size=\"14.00\" fill=\"#000000\">valor &#45;6.0000</text>\n<polyline fill=\"none\" stroke=\"#000000\" points=\"495,-55.5 495,-91.5 \"/>\n<text text-anchor=\"middle\" x=\"538.5\" y=\"-69.8\" font-family=\"Times,serif\" font-size=\"14.00\" fill=\"#000000\">grad 0.6347</text>\n</g>\n<!-- 140321068540816+ -->\n<g id=\"node9\" class=\"node\">\n<title>140321068540816+</title>\n<ellipse fill=\"none\" stroke=\"#000000\" cx=\"645\" cy=\"-100.5\" rx=\"27\" ry=\"18\"/>\n<text text-anchor=\"middle\" x=\"645\" y=\"-96.8\" font-family=\"Times,serif\" font-size=\"14.00\" fill=\"#000000\">+</text>\n</g>\n<!-- 140321068539984&#45;&gt;140321068540816+ -->\n<g id=\"edge10\" class=\"edge\">\n<title>140321068539984&#45;&gt;140321068540816+</title>\n<path fill=\"none\" stroke=\"#000000\" d=\"M582.1939,-91.2081C591.5369,-92.5904 600.4379,-93.9072 608.4477,-95.0923\"/>\n<polygon fill=\"#000000\" stroke=\"#000000\" points=\"608.0217,-98.5673 618.4263,-96.5686 609.0463,-91.6426 608.0217,-98.5673\"/>\n</g>\n<!-- 140321068539984* -->\n<g id=\"node3\" class=\"node\">\n<title>140321068539984*</title>\n<ellipse fill=\"none\" stroke=\"#000000\" cx=\"280\" cy=\"-73.5\" rx=\"27\" ry=\"18\"/>\n<text text-anchor=\"middle\" x=\"280\" y=\"-69.8\" font-family=\"Times,serif\" font-size=\"14.00\" fill=\"#000000\">*</text>\n</g>\n<!-- 140321068539984*&#45;&gt;140321068539984 -->\n<g id=\"edge1\" class=\"edge\">\n<title>140321068539984*&#45;&gt;140321068539984</title>\n<path fill=\"none\" stroke=\"#000000\" d=\"M307.3221,-73.5C314.7705,-73.5 323.3609,-73.5 332.5998,-73.5\"/>\n<polygon fill=\"#000000\" stroke=\"#000000\" points=\"332.8561,-77.0001 342.856,-73.5 332.856,-70.0001 332.8561,-77.0001\"/>\n</g>\n<!-- 140321068541072 -->\n<g id=\"node4\" class=\"node\">\n<title>140321068541072</title>\n<polygon fill=\"none\" stroke=\"#000000\" points=\"1129,-54.5 1129,-90.5 1331,-90.5 1331,-54.5 1129,-54.5\"/>\n<text text-anchor=\"middle\" x=\"1141\" y=\"-68.8\" font-family=\"Times,serif\" font-size=\"14.00\" fill=\"#000000\">n</text>\n<polyline fill=\"none\" stroke=\"#000000\" points=\"1153,-54.5 1153,-90.5 \"/>\n<text text-anchor=\"middle\" x=\"1198.5\" y=\"-68.8\" font-family=\"Times,serif\" font-size=\"14.00\" fill=\"#000000\">valor 0.7000</text>\n<polyline fill=\"none\" stroke=\"#000000\" points=\"1244,-54.5 1244,-90.5 \"/>\n<text text-anchor=\"middle\" x=\"1287.5\" y=\"-68.8\" font-family=\"Times,serif\" font-size=\"14.00\" fill=\"#000000\">grad 0.6347</text>\n</g>\n<!-- 140321068541328tanh -->\n<g id=\"node14\" class=\"node\">\n<title>140321068541328tanh</title>\n<ellipse fill=\"none\" stroke=\"#000000\" cx=\"1394\" cy=\"-72.5\" rx=\"27\" ry=\"18\"/>\n<text text-anchor=\"middle\" x=\"1394\" y=\"-68.8\" font-family=\"Times,serif\" font-size=\"14.00\" fill=\"#000000\">tanh</text>\n</g>\n<!-- 140321068541072&#45;&gt;140321068541328tanh -->\n<g id=\"edge14\" class=\"edge\">\n<title>140321068541072&#45;&gt;140321068541328tanh</title>\n<path fill=\"none\" stroke=\"#000000\" d=\"M1331.0623,-72.5C1340.0352,-72.5 1348.6857,-72.5 1356.551,-72.5\"/>\n<polygon fill=\"#000000\" stroke=\"#000000\" points=\"1356.7462,-76.0001 1366.7462,-72.5 1356.7461,-69.0001 1356.7462,-76.0001\"/>\n</g>\n<!-- 140321068541072+ -->\n<g id=\"node5\" class=\"node\">\n<title>140321068541072+</title>\n<ellipse fill=\"none\" stroke=\"#000000\" cx=\"1066\" cy=\"-72.5\" rx=\"27\" ry=\"18\"/>\n<text text-anchor=\"middle\" x=\"1066\" y=\"-68.8\" font-family=\"Times,serif\" font-size=\"14.00\" fill=\"#000000\">+</text>\n</g>\n<!-- 140321068541072+&#45;&gt;140321068541072 -->\n<g id=\"edge2\" class=\"edge\">\n<title>140321068541072+&#45;&gt;140321068541072</title>\n<path fill=\"none\" stroke=\"#000000\" d=\"M1093.0813,-72.5C1100.631,-72.5 1109.3302,-72.5 1118.608,-72.5\"/>\n<polygon fill=\"#000000\" stroke=\"#000000\" points=\"1118.8754,-76.0001 1128.8754,-72.5 1118.8754,-69.0001 1118.8754,-76.0001\"/>\n</g>\n<!-- 140321068540560 -->\n<g id=\"node6\" class=\"node\">\n<title>140321068540560</title>\n<polygon fill=\"none\" stroke=\"#000000\" points=\"345,-110.5 345,-146.5 580,-146.5 580,-110.5 345,-110.5\"/>\n<text text-anchor=\"middle\" x=\"373.5\" y=\"-124.8\" font-family=\"Times,serif\" font-size=\"14.00\" fill=\"#000000\">x2*w2</text>\n<polyline fill=\"none\" stroke=\"#000000\" points=\"402,-110.5 402,-146.5 \"/>\n<text text-anchor=\"middle\" x=\"447.5\" y=\"-124.8\" font-family=\"Times,serif\" font-size=\"14.00\" fill=\"#000000\">valor 0.0000</text>\n<polyline fill=\"none\" stroke=\"#000000\" points=\"493,-110.5 493,-146.5 \"/>\n<text text-anchor=\"middle\" x=\"536.5\" y=\"-124.8\" font-family=\"Times,serif\" font-size=\"14.00\" fill=\"#000000\">grad 0.6347</text>\n</g>\n<!-- 140321068540560&#45;&gt;140321068540816+ -->\n<g id=\"edge13\" class=\"edge\">\n<title>140321068540560&#45;&gt;140321068540816+</title>\n<path fill=\"none\" stroke=\"#000000\" d=\"M579.8862,-110.4901C590.1182,-108.9202 599.8713,-107.4239 608.5687,-106.0895\"/>\n<polygon fill=\"#000000\" stroke=\"#000000\" points=\"609.2617,-109.5242 618.6152,-104.5481 608.2001,-102.6051 609.2617,-109.5242\"/>\n</g>\n<!-- 140321068540560*&#45;&gt;140321068540560 -->\n<g id=\"edge3\" class=\"edge\">\n<title>140321068540560*&#45;&gt;140321068540560</title>\n<path fill=\"none\" stroke=\"#000000\" d=\"M307.3221,-128.5C315.3019,-128.5 324.5924,-128.5 334.5868,-128.5\"/>\n<polygon fill=\"#000000\" stroke=\"#000000\" points=\"334.7933,-132.0001 344.7933,-128.5 334.7932,-125.0001 334.7933,-132.0001\"/>\n</g>\n<!-- 140321068540816 -->\n<g id=\"node8\" class=\"node\">\n<title>140321068540816</title>\n<polygon fill=\"none\" stroke=\"#000000\" points=\"708,-82.5 708,-118.5 1003,-118.5 1003,-82.5 708,-82.5\"/>\n<text text-anchor=\"middle\" x=\"764.5\" y=\"-96.8\" font-family=\"Times,serif\" font-size=\"14.00\" fill=\"#000000\">x1*w1 + x2*w2</text>\n<polyline fill=\"none\" stroke=\"#000000\" points=\"821,-82.5 821,-118.5 \"/>\n<text text-anchor=\"middle\" x=\"868.5\" y=\"-96.8\" font-family=\"Times,serif\" font-size=\"14.00\" fill=\"#000000\">valor &#45;6.0000</text>\n<polyline fill=\"none\" stroke=\"#000000\" points=\"916,-82.5 916,-118.5 \"/>\n<text text-anchor=\"middle\" x=\"959.5\" y=\"-96.8\" font-family=\"Times,serif\" font-size=\"14.00\" fill=\"#000000\">grad 0.6347</text>\n</g>\n<!-- 140321068540816&#45;&gt;140321068541072+ -->\n<g id=\"edge9\" class=\"edge\">\n<title>140321068540816&#45;&gt;140321068541072+</title>\n<path fill=\"none\" stroke=\"#000000\" d=\"M990.8962,-82.4901C1004.8067,-80.6397 1017.9499,-78.8915 1029.2362,-77.3902\"/>\n<polygon fill=\"#000000\" stroke=\"#000000\" points=\"1030.0013,-80.8193 1039.4525,-76.0313 1029.0783,-73.8805 1030.0013,-80.8193\"/>\n</g>\n<!-- 140321068540816+&#45;&gt;140321068540816 -->\n<g id=\"edge4\" class=\"edge\">\n<title>140321068540816+&#45;&gt;140321068540816</title>\n<path fill=\"none\" stroke=\"#000000\" d=\"M672.0883,-100.5C679.5878,-100.5 688.3003,-100.5 697.7753,-100.5\"/>\n<polygon fill=\"#000000\" stroke=\"#000000\" points=\"697.9064,-104.0001 707.9063,-100.5 697.9063,-97.0001 697.9064,-104.0001\"/>\n</g>\n<!-- 140321068540176 -->\n<g id=\"node10\" class=\"node\">\n<title>140321068540176</title>\n<polygon fill=\"none\" stroke=\"#000000\" points=\"754.5,-27.5 754.5,-63.5 956.5,-63.5 956.5,-27.5 754.5,-27.5\"/>\n<text text-anchor=\"middle\" x=\"766.5\" y=\"-41.8\" font-family=\"Times,serif\" font-size=\"14.00\" fill=\"#000000\">b</text>\n<polyline fill=\"none\" stroke=\"#000000\" points=\"778.5,-27.5 778.5,-63.5 \"/>\n<text text-anchor=\"middle\" x=\"824\" y=\"-41.8\" font-family=\"Times,serif\" font-size=\"14.00\" fill=\"#000000\">valor 6.7000</text>\n<polyline fill=\"none\" stroke=\"#000000\" points=\"869.5,-27.5 869.5,-63.5 \"/>\n<text text-anchor=\"middle\" x=\"913\" y=\"-41.8\" font-family=\"Times,serif\" font-size=\"14.00\" fill=\"#000000\">grad 0.6347</text>\n</g>\n<!-- 140321068540176&#45;&gt;140321068541072+ -->\n<g id=\"edge7\" class=\"edge\">\n<title>140321068540176&#45;&gt;140321068541072+</title>\n<path fill=\"none\" stroke=\"#000000\" d=\"M956.7423,-58.486C982.7527,-61.8222 1009.0898,-65.2004 1029.3874,-67.8039\"/>\n<polygon fill=\"#000000\" stroke=\"#000000\" points=\"1029.0535,-71.2896 1039.4175,-69.0904 1029.9441,-64.3465 1029.0535,-71.2896\"/>\n</g>\n<!-- 140321070051152 -->\n<g id=\"node11\" class=\"node\">\n<title>140321070051152</title>\n<polygon fill=\"none\" stroke=\"#000000\" points=\"0,-55.5 0,-91.5 217,-91.5 217,-55.5 0,-55.5\"/>\n<text text-anchor=\"middle\" x=\"17.5\" y=\"-69.8\" font-family=\"Times,serif\" font-size=\"14.00\" fill=\"#000000\">w1</text>\n<polyline fill=\"none\" stroke=\"#000000\" points=\"35,-55.5 35,-91.5 \"/>\n<text text-anchor=\"middle\" x=\"82.5\" y=\"-69.8\" font-family=\"Times,serif\" font-size=\"14.00\" fill=\"#000000\">valor &#45;3.0000</text>\n<polyline fill=\"none\" stroke=\"#000000\" points=\"130,-55.5 130,-91.5 \"/>\n<text text-anchor=\"middle\" x=\"173.5\" y=\"-69.8\" font-family=\"Times,serif\" font-size=\"14.00\" fill=\"#000000\">grad 1.2695</text>\n</g>\n<!-- 140321070051152&#45;&gt;140321068539984* -->\n<g id=\"edge11\" class=\"edge\">\n<title>140321070051152&#45;&gt;140321068539984*</title>\n<path fill=\"none\" stroke=\"#000000\" d=\"M217.1136,-73.5C226.1625,-73.5 234.845,-73.5 242.7162,-73.5\"/>\n<polygon fill=\"#000000\" stroke=\"#000000\" points=\"242.9052,-77.0001 252.9052,-73.5 242.9051,-70.0001 242.9052,-77.0001\"/>\n</g>\n<!-- 140321068584272 -->\n<g id=\"node12\" class=\"node\">\n<title>140321068584272</title>\n<polygon fill=\"none\" stroke=\"#000000\" points=\"1,-.5 1,-36.5 216,-36.5 216,-.5 1,-.5\"/>\n<text text-anchor=\"middle\" x=\"17\" y=\"-14.8\" font-family=\"Times,serif\" font-size=\"14.00\" fill=\"#000000\">x1</text>\n<polyline fill=\"none\" stroke=\"#000000\" points=\"33,-.5 33,-36.5 \"/>\n<text text-anchor=\"middle\" x=\"78.5\" y=\"-14.8\" font-family=\"Times,serif\" font-size=\"14.00\" fill=\"#000000\">valor 2.0000</text>\n<polyline fill=\"none\" stroke=\"#000000\" points=\"124,-.5 124,-36.5 \"/>\n<text text-anchor=\"middle\" x=\"170\" y=\"-14.8\" font-family=\"Times,serif\" font-size=\"14.00\" fill=\"#000000\">grad &#45;1.9042</text>\n</g>\n<!-- 140321068584272&#45;&gt;140321068539984* -->\n<g id=\"edge12\" class=\"edge\">\n<title>140321068584272&#45;&gt;140321068539984*</title>\n<path fill=\"none\" stroke=\"#000000\" d=\"M184.5246,-36.5455C195.501,-39.6056 206.5971,-42.9516 217,-46.5 227.4979,-50.0808 238.7032,-54.6335 248.709,-58.9756\"/>\n<polygon fill=\"#000000\" stroke=\"#000000\" points=\"247.3118,-62.1847 257.8724,-63.0356 250.1474,-55.7847 247.3118,-62.1847\"/>\n</g>\n<!-- 140321068541328 -->\n<g id=\"node13\" class=\"node\">\n<title>140321068541328</title>\n<polygon fill=\"none\" stroke=\"#000000\" points=\"1457,-54.5 1457,-90.5 1659,-90.5 1659,-54.5 1457,-54.5\"/>\n<text text-anchor=\"middle\" x=\"1469\" y=\"-68.8\" font-family=\"Times,serif\" font-size=\"14.00\" fill=\"#000000\">o</text>\n<polyline fill=\"none\" stroke=\"#000000\" points=\"1481,-54.5 1481,-90.5 \"/>\n<text text-anchor=\"middle\" x=\"1526.5\" y=\"-68.8\" font-family=\"Times,serif\" font-size=\"14.00\" fill=\"#000000\">valor 0.6044</text>\n<polyline fill=\"none\" stroke=\"#000000\" points=\"1572,-54.5 1572,-90.5 \"/>\n<text text-anchor=\"middle\" x=\"1615.5\" y=\"-68.8\" font-family=\"Times,serif\" font-size=\"14.00\" fill=\"#000000\">grad 1.0000</text>\n</g>\n<!-- 140321068541328tanh&#45;&gt;140321068541328 -->\n<g id=\"edge5\" class=\"edge\">\n<title>140321068541328tanh&#45;&gt;140321068541328</title>\n<path fill=\"none\" stroke=\"#000000\" d=\"M1421.0813,-72.5C1428.631,-72.5 1437.3302,-72.5 1446.608,-72.5\"/>\n<polygon fill=\"#000000\" stroke=\"#000000\" points=\"1446.8754,-76.0001 1456.8754,-72.5 1446.8754,-69.0001 1446.8754,-76.0001\"/>\n</g>\n<!-- 140321070050256 -->\n<g id=\"node15\" class=\"node\">\n<title>140321070050256</title>\n<polygon fill=\"none\" stroke=\"#000000\" points=\"2,-110.5 2,-146.5 215,-146.5 215,-110.5 2,-110.5\"/>\n<text text-anchor=\"middle\" x=\"19.5\" y=\"-124.8\" font-family=\"Times,serif\" font-size=\"14.00\" fill=\"#000000\">w2</text>\n<polyline fill=\"none\" stroke=\"#000000\" points=\"37,-110.5 37,-146.5 \"/>\n<text text-anchor=\"middle\" x=\"82.5\" y=\"-124.8\" font-family=\"Times,serif\" font-size=\"14.00\" fill=\"#000000\">valor 1.0000</text>\n<polyline fill=\"none\" stroke=\"#000000\" points=\"128,-110.5 128,-146.5 \"/>\n<text text-anchor=\"middle\" x=\"171.5\" y=\"-124.8\" font-family=\"Times,serif\" font-size=\"14.00\" fill=\"#000000\">grad 0.0000</text>\n</g>\n<!-- 140321070050256&#45;&gt;140321068540560* -->\n<g id=\"edge8\" class=\"edge\">\n<title>140321070050256&#45;&gt;140321068540560*</title>\n<path fill=\"none\" stroke=\"#000000\" d=\"M215.1632,-128.5C224.9338,-128.5 234.3186,-128.5 242.7669,-128.5\"/>\n<polygon fill=\"#000000\" stroke=\"#000000\" points=\"242.9259,-132.0001 252.9259,-128.5 242.9258,-125.0001 242.9259,-132.0001\"/>\n</g>\n</g>\n</svg>\n"
          },
          "metadata": {},
          "execution_count": 228
        }
      ]
    },
    {
      "cell_type": "code",
      "source": [
        "o.grad = 1.0\n",
        "n.grad = 1 - o.valor**2\n",
        "\n",
        "\n",
        "x1w1x2w2.grad = n.grad\n",
        "b.grad = n.grad\n",
        "\n",
        "\n",
        "x1w1.grad = n.grad\n",
        "x2w2.grad = n.grad\n",
        "\n",
        "w2.grad = x2.valor * x2w2.grad\n",
        "x2.grad = w2.valor * x2w2.grad\n",
        "w1.grad = x1.valor * x1w1.grad\n",
        "x1.grad = w1.valor * x1w1.grad"
      ],
      "metadata": {
        "id": "-AqI5NorqLyD"
      },
      "execution_count": null,
      "outputs": []
    },
    {
      "cell_type": "code",
      "source": [
        "import random\n",
        "\n",
        "class Neurona:\n",
        "  def __init__(self, nin):\n",
        "    self.w = [Valor(random.uniform(-1, 1)) for _ in range(nin)]\n",
        "    self.b = Valor(random.uniform(-1,1))\n",
        "\n",
        "  def __call__(self, x):\n",
        "    # w * x + b\n",
        "    activacion = sum((wi*xi for wi, xi in zip(self.w, x)), self.b)\n",
        "    resultado = activacion.tanh()\n",
        "    return resultado"
      ],
      "metadata": {
        "id": "qn8syYVUV3vU"
      },
      "execution_count": 253,
      "outputs": []
    },
    {
      "cell_type": "code",
      "source": [
        "x = [2.0, 3.0]\n",
        "n = Neurona(2)\n",
        "n(x)"
      ],
      "metadata": {
        "colab": {
          "base_uri": "https://localhost:8080/"
        },
        "id": "EnmkdE-XXQze",
        "outputId": "80dac992-8960-4513-913f-0d19ef9f6649"
      },
      "execution_count": 264,
      "outputs": [
        {
          "output_type": "execute_result",
          "data": {
            "text/plain": [
              "Valor(-0.958878175427856)"
            ]
          },
          "metadata": {},
          "execution_count": 264
        }
      ]
    }
  ]
}