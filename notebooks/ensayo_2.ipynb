{
  "nbformat": 4,
  "nbformat_minor": 0,
  "metadata": {
    "colab": {
      "provenance": [],
      "authorship_tag": "ABX9TyO1qMFnImqy/IRGxuPIx79q",
      "include_colab_link": true
    },
    "kernelspec": {
      "name": "python3",
      "display_name": "Python 3"
    },
    "language_info": {
      "name": "python"
    }
  },
  "cells": [
    {
      "cell_type": "markdown",
      "metadata": {
        "id": "view-in-github",
        "colab_type": "text"
      },
      "source": [
        "<a href=\"https://colab.research.google.com/github/DanteNoguez/CalculusRatiocinator/blob/main/notebooks/ensayo_2.ipynb\" target=\"_parent\"><img src=\"https://colab.research.google.com/assets/colab-badge.svg\" alt=\"Open In Colab\"/></a>"
      ]
    },
    {
      "cell_type": "code",
      "source": [
        "!pip install matplotlib --upgrade"
      ],
      "metadata": {
        "colab": {
          "base_uri": "https://localhost:8080/",
          "height": 516
        },
        "id": "5CJ6Q9meU-cy",
        "outputId": "ed173d24-43d7-4db5-823f-f57ce4907ea8"
      },
      "execution_count": 1,
      "outputs": [
        {
          "output_type": "stream",
          "name": "stdout",
          "text": [
            "Looking in indexes: https://pypi.org/simple, https://us-python.pkg.dev/colab-wheels/public/simple/\n",
            "Requirement already satisfied: matplotlib in /usr/local/lib/python3.7/dist-packages (3.2.2)\n",
            "Collecting matplotlib\n",
            "  Downloading matplotlib-3.5.3-cp37-cp37m-manylinux_2_5_x86_64.manylinux1_x86_64.whl (11.2 MB)\n",
            "\u001b[K     |████████████████████████████████| 11.2 MB 9.4 MB/s \n",
            "\u001b[?25hRequirement already satisfied: numpy>=1.17 in /usr/local/lib/python3.7/dist-packages (from matplotlib) (1.21.6)\n",
            "Requirement already satisfied: pyparsing>=2.2.1 in /usr/local/lib/python3.7/dist-packages (from matplotlib) (3.0.9)\n",
            "Requirement already satisfied: packaging>=20.0 in /usr/local/lib/python3.7/dist-packages (from matplotlib) (21.3)\n",
            "Requirement already satisfied: pillow>=6.2.0 in /usr/local/lib/python3.7/dist-packages (from matplotlib) (7.1.2)\n",
            "Collecting fonttools>=4.22.0\n",
            "  Downloading fonttools-4.37.1-py3-none-any.whl (957 kB)\n",
            "\u001b[K     |████████████████████████████████| 957 kB 56.1 MB/s \n",
            "\u001b[?25hRequirement already satisfied: cycler>=0.10 in /usr/local/lib/python3.7/dist-packages (from matplotlib) (0.11.0)\n",
            "Requirement already satisfied: kiwisolver>=1.0.1 in /usr/local/lib/python3.7/dist-packages (from matplotlib) (1.4.4)\n",
            "Requirement already satisfied: python-dateutil>=2.7 in /usr/local/lib/python3.7/dist-packages (from matplotlib) (2.8.2)\n",
            "Requirement already satisfied: typing-extensions in /usr/local/lib/python3.7/dist-packages (from kiwisolver>=1.0.1->matplotlib) (4.1.1)\n",
            "Requirement already satisfied: six>=1.5 in /usr/local/lib/python3.7/dist-packages (from python-dateutil>=2.7->matplotlib) (1.15.0)\n",
            "Installing collected packages: fonttools, matplotlib\n",
            "  Attempting uninstall: matplotlib\n",
            "    Found existing installation: matplotlib 3.2.2\n",
            "    Uninstalling matplotlib-3.2.2:\n",
            "      Successfully uninstalled matplotlib-3.2.2\n",
            "Successfully installed fonttools-4.37.1 matplotlib-3.5.3\n"
          ]
        },
        {
          "output_type": "display_data",
          "data": {
            "application/vnd.colab-display-data+json": {
              "pip_warning": {
                "packages": [
                  "matplotlib",
                  "mpl_toolkits"
                ]
              }
            }
          },
          "metadata": {}
        }
      ]
    },
    {
      "cell_type": "code",
      "execution_count": 1,
      "metadata": {
        "id": "kPG5U66s4kKQ"
      },
      "outputs": [],
      "source": [
        "import numpy as np\n",
        "import math\n",
        "import matplotlib.pyplot as plt\n",
        "%matplotlib inline"
      ]
    },
    {
      "cell_type": "markdown",
      "source": [
        "# La derivada demostrada según el orden geométrico\n",
        "\n",
        "### Estudiaremos las derivadas con la siguiente función:\n",
        "\n",
        "\\begin{align}\n",
        "\\ f(x) = 3x^2 - 4x + 5\n",
        "\\end{align}"
      ],
      "metadata": {
        "id": "mgFeTosKnn5U"
      }
    },
    {
      "cell_type": "code",
      "source": [
        "def f(x):\n",
        "  return 3*x**2 - 4*x + 5"
      ],
      "metadata": {
        "id": "ol0KBNvnSmvJ"
      },
      "execution_count": 15,
      "outputs": []
    },
    {
      "cell_type": "code",
      "source": [
        "xs = np.arange(-5, 5, 0.25)\n",
        "ys = f(xs)\n",
        "\n",
        "fig, ax = plt.subplots()\n",
        "\n",
        "ax.plot(xs, ys)\n",
        "plt.show()"
      ],
      "metadata": {
        "colab": {
          "base_uri": "https://localhost:8080/",
          "height": 265
        },
        "id": "NtA9E26nULV0",
        "outputId": "6691b803-dbe6-42e2-ddad-88b6a587d64c"
      },
      "execution_count": 20,
      "outputs": [
        {
          "output_type": "display_data",
          "data": {
            "text/plain": [
              "<Figure size 432x288 with 1 Axes>"
            ],
            "image/png": "[encoded data removed]"
          },
          "metadata": {
            "needs_background": "light"
          }
        }
      ]
    },
    {
      "cell_type": "markdown",
      "source": [
        "## La derivada de una función se define como:\n",
        "\n",
        "\\begin{align}\n",
        "\\ f^{\\prime}(x)=\\lim _{h \\rightarrow 0} \\frac{f(x+h)-f(x)}{h}\n",
        "\\end{align}"
      ],
      "metadata": {
        "id": "w1QFQvcSXiap"
      }
    },
    {
      "cell_type": "code",
      "source": [
        "h = 0.00001 # h tiende a 0\n",
        "\n",
        "def dfx(x, h):\n",
        "  return (f(x + h) - f(x)) / h\n",
        "\n",
        "\n",
        "x1 = -2\n",
        "d1 = dfx(x1, h)\n",
        "\n",
        "fig, ax = plt.subplots()\n",
        "\n",
        "ax.plot(xs, ys, label='función')\n",
        "ax.axline((x1, f(x1)), slope=d1, color='red', label='pendiente')\n",
        "#ax.set_xlim(0, 1)\n",
        "#ax.set_ylim(3, 5) \n",
        "ax.legend()"
      ],
      "metadata": {
        "colab": {
          "base_uri": "https://localhost:8080/",
          "height": 283
        },
        "id": "EzjYiSgAWII4",
        "outputId": "6c400f79-ab8d-4c22-d216-f58f3c3dde0e"
      },
      "execution_count": 47,
      "outputs": [
        {
          "output_type": "execute_result",
          "data": {
            "text/plain": [
              "<matplotlib.legend.Legend at 0x7f2834c1bf50>"
            ]
          },
          "metadata": {},
          "execution_count": 47
        },
        {
          "output_type": "display_data",
          "data": {
            "text/plain": [
              "<Figure size 432x288 with 1 Axes>"
            ],
            "image/png": "[encoded data removed]"
          },
          "metadata": {
            "needs_background": "light"
          }
        }
      ]
    },
    {
      "cell_type": "markdown",
      "source": [
        "## Encontrando la pendiente con la fórmula geométrica de la pendiente:\n",
        "\n",
        "\\begin{align}\n",
        "\\ Pendiente = \\frac{y_2 - y_1}{x_2 - x_1}\n",
        "\\end{align}"
      ],
      "metadata": {
        "id": "YF1G3QQRYRCx"
      }
    },
    {
      "cell_type": "code",
      "source": [
        "y2 = f(x1 + h)\n",
        "y1 = f(x1)\n",
        "\n",
        "y2, y1"
      ],
      "metadata": {
        "colab": {
          "base_uri": "https://localhost:8080/"
        },
        "id": "fUVu6VU0XEOQ",
        "outputId": "76c8a705-dda7-4691-c085-40d180b361cc"
      },
      "execution_count": 35,
      "outputs": [
        {
          "output_type": "execute_result",
          "data": {
            "text/plain": [
              "(24.999840000299997, 25)"
            ]
          },
          "metadata": {},
          "execution_count": 35
        }
      ]
    },
    {
      "cell_type": "code",
      "source": [
        "x1 = x1\n",
        "x2 = x1+h\n",
        "\n",
        "x1, x2"
      ],
      "metadata": {
        "colab": {
          "base_uri": "https://localhost:8080/"
        },
        "id": "36AjBvL3XMyW",
        "outputId": "a88c0b34-5c92-4a12-fe70-8231b3a7fb28"
      },
      "execution_count": 36,
      "outputs": [
        {
          "output_type": "execute_result",
          "data": {
            "text/plain": [
              "(-2, -1.99999)"
            ]
          },
          "metadata": {},
          "execution_count": 36
        }
      ]
    },
    {
      "cell_type": "code",
      "source": [
        "p1 = (y2-y1) / (x2-x1)\n",
        "p1"
      ],
      "metadata": {
        "colab": {
          "base_uri": "https://localhost:8080/"
        },
        "id": "se8-SkqxZdM-",
        "outputId": "861b29e9-fdf4-45d5-8d09-07527ce8e741"
      },
      "execution_count": 37,
      "outputs": [
        {
          "output_type": "execute_result",
          "data": {
            "text/plain": [
              "-15.999970000175153"
            ]
          },
          "metadata": {},
          "execution_count": 37
        }
      ]
    },
    {
      "cell_type": "code",
      "source": [
        "d1"
      ],
      "metadata": {
        "colab": {
          "base_uri": "https://localhost:8080/"
        },
        "id": "56MiyMQ7nYnX",
        "outputId": "9036b72c-35dd-4c31-a7be-14c6c5770cd7"
      },
      "execution_count": 38,
      "outputs": [
        {
          "output_type": "execute_result",
          "data": {
            "text/plain": [
              "-15.999970000279971"
            ]
          },
          "metadata": {},
          "execution_count": 38
        }
      ]
    },
    {
      "cell_type": "markdown",
      "source": [
        "### Demostración\n",
        "\n",
        "En realidad, cada valor de la fórmula de una función es equivalente a cada valor de la fórmula de la pendiente, de tal forma que:\n",
        "\n",
        "\n",
        "\n",
        "\\begin{align}\n",
        "\\ f(x+h) = y_2 \\\\\n",
        "\\ f(x) = y_1 \\\\\n",
        "\\ h = x_2 - x_1 \\\\\n",
        "\\end{align}"
      ],
      "metadata": {
        "id": "P3nJC50xqNWO"
      }
    },
    {
      "cell_type": "code",
      "source": [
        "print(f\"\"\"\n",
        "Valores comparados:\n",
        "f(x+h): {f(x1+h)} = y2: {y2}\n",
        "f(x): {f(x1)} = y1: {y1}\n",
        "h: {h} = x2-x1: {x2-x1}\"\"\")"
      ],
      "metadata": {
        "colab": {
          "base_uri": "https://localhost:8080/"
        },
        "id": "DkS-2sN6ncn1",
        "outputId": "b306dc15-4b4e-44b1-d3a6-b1751e848246"
      },
      "execution_count": 41,
      "outputs": [
        {
          "output_type": "stream",
          "name": "stdout",
          "text": [
            "\n",
            "Valores comparados:\n",
            "f(x+h): 24.999840000299997 = y2: 24.999840000299997\n",
            "f(x): 25 = y1: 25\n",
            "h: 1e-05 = x2-x1: 1.0000000000065512e-05\n"
          ]
        }
      ]
    },
    {
      "cell_type": "code",
      "source": [
        "xn = 2/3\n",
        "\n",
        "pn = dfx(xn, h)\n",
        "pn"
      ],
      "metadata": {
        "colab": {
          "base_uri": "https://localhost:8080/"
        },
        "id": "dIqpmmq3U2SF",
        "outputId": "0aa42d7e-6ab0-45a1-8778-8c40a48f4518"
      },
      "execution_count": 48,
      "outputs": [
        {
          "output_type": "execute_result",
          "data": {
            "text/plain": [
              "3.0000002482211127e-05"
            ]
          },
          "metadata": {},
          "execution_count": 48
        }
      ]
    },
    {
      "cell_type": "code",
      "source": [
        "xs = np.arange(-5, 5, 0.25)\n",
        "ys = f(xs)\n",
        "\n",
        "fig, ax = plt.subplots()\n",
        "\n",
        "ax.plot(xs, ys)\n",
        "ax.axline((xn, f(xn)), slope=pn, color='red', label='by slope')\n",
        "ax.legend()"
      ],
      "metadata": {
        "colab": {
          "base_uri": "https://localhost:8080/",
          "height": 283
        },
        "id": "BXJQRAQ8WB6w",
        "outputId": "a7c27e80-51f4-4816-c3d5-74c9fb7c3758"
      },
      "execution_count": 49,
      "outputs": [
        {
          "output_type": "execute_result",
          "data": {
            "text/plain": [
              "<matplotlib.legend.Legend at 0x7f2834ba1050>"
            ]
          },
          "metadata": {},
          "execution_count": 49
        },
        {
          "output_type": "display_data",
          "data": {
            "text/plain": [
              "<Figure size 432x288 with 1 Axes>"
            ],
            "image/png": "[encoded data removed]"
          },
          "metadata": {
            "needs_background": "light"
          }
        }
      ]
    },
    {
      "cell_type": "markdown",
      "source": [
        "### Ahora haremos derivadas un poco más complejas con funciones de dos variables (x, y). \n",
        "\n",
        "La fórmula de la derivada con respecto a $x$ es: \n",
        "\n",
        "\\begin{equation}\n",
        "\\frac{\\partial f(x, y)}{\\partial x}=\\frac{f(x+h, y)-f(x, y)}{h}\n",
        "\\end{equation}\n",
        "\n",
        "Y la derivada con respecto a $y$:\n",
        "\n",
        "\\begin{equation}\n",
        "\\frac{\\partial f(x, y)}{\\partial y}=\\frac{f(x, y+h)-f(x, y)}{h}\n",
        "\\end{equation}\n"
      ],
      "metadata": {
        "id": "MqmUMSTv0vVM"
      }
    },
    {
      "cell_type": "code",
      "source": [
        "def fmult(x, y):\n",
        "  return x * y\n",
        "\n",
        "x = -2\n",
        "y = 3\n",
        "\n",
        "def dmultx(f, x, y, h):\n",
        "  return ((f(x+h, y) - f(x, y)) / h)\n",
        "\n",
        "resultado = dmultx(fmult, x, y, h)\n",
        "resultado"
      ],
      "metadata": {
        "colab": {
          "base_uri": "https://localhost:8080/"
        },
        "id": "3C8S99vDsbm2",
        "outputId": "0374804a-1d2a-45cc-8527-457f47c15cb6"
      },
      "execution_count": 58,
      "outputs": [
        {
          "output_type": "execute_result",
          "data": {
            "text/plain": [
              "3.000000000064062"
            ]
          },
          "metadata": {},
          "execution_count": 58
        }
      ]
    },
    {
      "cell_type": "code",
      "source": [
        "def dmulty(f, x, y, h):\n",
        "  return ((f(x, y+h) - f(x, y)) / h)\n",
        "\n",
        "resultado2 = dmulty(fmult, x, y, h)\n",
        "resultado2"
      ],
      "metadata": {
        "colab": {
          "base_uri": "https://localhost:8080/"
        },
        "id": "3awHLRC819U4",
        "outputId": "39699246-805c-4e50-a1d6-ec6b9e9a0b2a"
      },
      "execution_count": 59,
      "outputs": [
        {
          "output_type": "execute_result",
          "data": {
            "text/plain": [
              "-2.0000000000131024"
            ]
          },
          "metadata": {},
          "execution_count": 59
        }
      ]
    },
    {
      "cell_type": "code",
      "source": [
        "fig, ax = plt.subplots()\n",
        "\n",
        "ax.plot(fmult(xs, ys))\n",
        "#ax.axline((x, fmult(x, y)), slope=resultado, color='red', label='by slope')\n",
        "#ax.legend()"
      ],
      "metadata": {
        "colab": {
          "base_uri": "https://localhost:8080/",
          "height": 283
        },
        "id": "KYmyXqv12Yf0",
        "outputId": "d01ee48c-bb30-4ea6-cbf1-a25c4147d89e"
      },
      "execution_count": 70,
      "outputs": [
        {
          "output_type": "execute_result",
          "data": {
            "text/plain": [
              "[<matplotlib.lines.Line2D at 0x7f282bab1b90>]"
            ]
          },
          "metadata": {},
          "execution_count": 70
        },
        {
          "output_type": "display_data",
          "data": {
            "text/plain": [
              "<Figure size 432x288 with 1 Axes>"
            ],
            "image/png": "[encoded data removed]"
          },
          "metadata": {
            "needs_background": "light"
          }
        }
      ]
    },
    {
      "cell_type": "code",
      "source": [
        "xs[0], ys[0], fmult(xs, ys)[0], dmultx(fmult, xs[0], ys[0], h), dmulty(fmult, xs[0], ys[0], h)"
      ],
      "metadata": {
        "colab": {
          "base_uri": "https://localhost:8080/"
        },
        "id": "3Rk9b7-32y-I",
        "outputId": "32425e3d-a24d-4cc9-b4c3-79ab942b67bd"
      },
      "execution_count": 62,
      "outputs": [
        {
          "output_type": "execute_result",
          "data": {
            "text/plain": [
              "(-5.0, 100.0, -500.0, 99.9999999976353, -4.999999998744897)"
            ]
          },
          "metadata": {},
          "execution_count": 62
        }
      ]
    },
    {
      "cell_type": "code",
      "source": [
        "def fsum(x, y):\n",
        "  return x + y\n",
        "\n",
        "dmultx(fsum, xs[0], ys[0], h), dmulty(fsum, xs[0], ys[0], h)"
      ],
      "metadata": {
        "colab": {
          "base_uri": "https://localhost:8080/"
        },
        "id": "aAClAS5x3cUO",
        "outputId": "549dee6b-aba4-4a6f-e143-129dd3e6d57c"
      },
      "execution_count": 65,
      "outputs": [
        {
          "output_type": "execute_result",
          "data": {
            "text/plain": [
              "(1.0000000003174137, 1.0000000003174137)"
            ]
          },
          "metadata": {},
          "execution_count": 65
        }
      ]
    },
    {
      "cell_type": "code",
      "source": [
        "fsum(xs, ys)"
      ],
      "metadata": {
        "colab": {
          "base_uri": "https://localhost:8080/"
        },
        "id": "Q3MVF0Xr4vS7",
        "outputId": "109ac4fc-9a89-48f8-8916-8facca5957a4"
      },
      "execution_count": 66,
      "outputs": [
        {
          "output_type": "execute_result",
          "data": {
            "text/plain": [
              "array([95.    , 86.9375, 79.25  , 71.9375, 65.    , 58.4375, 52.25  ,\n",
              "       46.4375, 41.    , 35.9375, 31.25  , 26.9375, 23.    , 19.4375,\n",
              "       16.25  , 13.4375, 11.    ,  8.9375,  7.25  ,  5.9375,  5.    ,\n",
              "        4.4375,  4.25  ,  4.4375,  5.    ,  5.9375,  7.25  ,  8.9375,\n",
              "       11.    , 13.4375, 16.25  , 19.4375, 23.    , 26.9375, 31.25  ,\n",
              "       35.9375, 41.    , 46.4375, 52.25  , 58.4375])"
            ]
          },
          "metadata": {},
          "execution_count": 66
        }
      ]
    },
    {
      "cell_type": "code",
      "source": [
        "plt.plot(fsum(xs, ys))"
      ],
      "metadata": {
        "colab": {
          "base_uri": "https://localhost:8080/",
          "height": 283
        },
        "id": "pW3uAeuo4-te",
        "outputId": "d6da9db6-be1a-4b01-b384-942a730ed1d0"
      },
      "execution_count": 69,
      "outputs": [
        {
          "output_type": "execute_result",
          "data": {
            "text/plain": [
              "[<matplotlib.lines.Line2D at 0x7f282bb30150>]"
            ]
          },
          "metadata": {},
          "execution_count": 69
        },
        {
          "output_type": "display_data",
          "data": {
            "text/plain": [
              "<Figure size 432x288 with 1 Axes>"
            ],
            "image/png": "[encoded data removed]"
          },
          "metadata": {
            "needs_background": "light"
          }
        }
      ]
    },
    {
      "cell_type": "code",
      "source": [],
      "metadata": {
        "id": "vXwN6dgi5Q2A"
      },
      "execution_count": null,
      "outputs": []
    }
  ]
}